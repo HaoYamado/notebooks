{
  "nbformat": 4,
  "nbformat_minor": 0,
  "metadata": {
    "colab": {
      "name": "PyTorch_Logistic_Regression_Model.ipynb",
      "provenance": [],
      "collapsed_sections": [],
      "include_colab_link": true
    },
    "kernelspec": {
      "name": "python3",
      "display_name": "Python 3"
    }
  },
  "cells": [
    {
      "cell_type": "markdown",
      "metadata": {
        "id": "view-in-github",
        "colab_type": "text"
      },
      "source": [
        "<a href=\"https://colab.research.google.com/github/HaoYamado/notebooks/blob/master/PyTorch_Logistic_Regression_Model.ipynb\" target=\"_parent\"><img src=\"https://colab.research.google.com/assets/colab-badge.svg\" alt=\"Open In Colab\"/></a>"
      ]
    },
    {
      "cell_type": "markdown",
      "metadata": {
        "id": "GM_kQHz5Fwu9",
        "colab_type": "text"
      },
      "source": [
        "![alt text](https://miro.medium.com/max/2400/1*aqNgmfyBIStLrf9k7d9cng.jpeg)"
      ]
    },
    {
      "cell_type": "markdown",
      "metadata": {
        "id": "P761UJ_kZwtB",
        "colab_type": "text"
      },
      "source": [
        "# Logistic Regression on PyTorch"
      ]
    },
    {
      "cell_type": "markdown",
      "metadata": {
        "id": "0XlRXe1DaJwY",
        "colab_type": "text"
      },
      "source": [
        "*Линейная регрессия: *"
      ]
    },
    {
      "cell_type": "code",
      "metadata": {
        "id": "gwmVnjLUZXpj",
        "colab_type": "code",
        "colab": {}
      },
      "source": [
        "import numpy as np\n",
        "import matplotlib.pyplot as plt\n",
        "%matplotlib inline"
      ],
      "execution_count": 0,
      "outputs": []
    },
    {
      "cell_type": "code",
      "metadata": {
        "id": "j14DYYaMZjh-",
        "colab_type": "code",
        "outputId": "b678d426-6784-4b56-dcc0-c736ac80130f",
        "colab": {
          "base_uri": "https://localhost:8080/",
          "height": 279
        }
      },
      "source": [
        "x = [1, 5, 10, 10, 25, 50, 70, 75, 100]\n",
        "y = [0, 0, 0, 0, 0, 1, 1, 1, 1]\n",
        "\n",
        "colors = np.random.rand(len(x))\n",
        "plt.plot(np.unique(x), np.poly1d(np.polyfit(x, y, 1))(np.unique(x)))\n",
        "plt.ylabel('Fever')\n",
        "plt.xlabel('Temperature')\n",
        "\n",
        "plt.scatter(x, y, c=colors, alpha=0.5)\n",
        "plt.show()"
      ],
      "execution_count": 59,
      "outputs": [
        {
          "output_type": "display_data",
          "data": {
            "image/png": "[encoded data removed]",
            "text/plain": [
              "<Figure size 432x288 with 1 Axes>"
            ]
          },
          "metadata": {
            "tags": []
          }
        }
      ]
    },
    {
      "cell_type": "markdown",
      "metadata": {
        "id": "6Lc7raO-nCP4",
        "colab_type": "text"
      },
      "source": [
        "## Логистическая регрессия in-depth\n",
        "\n",
        "Prediction probability(прогнозирование вероятности):\n",
        "\n",
        "1. Linear regression doesn't work (Линейная регрессия не работает)\n",
        "2. Instead of predicting direct values: predict probability(вместо прогнозирования прямых значений: предсказывает вероятность)\n",
        "![alt text](https://www.deeplearningwizard.com/deep_learning/practical_pytorch/images/cross_entropy_final_4.png)\n",
        "\n",
        "## Logistic Function g() (Логистическая функция g())\n",
        "\n",
        "1. 'Two-class logistic regression' (Двухклассовая логистическая регрессия)\n",
        "\n",
        "\n",
        "\n",
        "<math xmlns=\"http://www.w3.org/1998/Math/MathML\">\n",
        "  <mi mathvariant=\"bold-italic\">y</mi>\n",
        "  <mo>=</mo>\n",
        "  <mi>A</mi>\n",
        "  <mi mathvariant=\"bold-italic\">x</mi>\n",
        "  <mo>+</mo>\n",
        "  <mi mathvariant=\"bold-italic\">b</mi>\n",
        "</math>, где y - вектор, содержащий предсказания 2-класса y_0 и y_1,\n",
        "где метки y_0 = 0, y_1 = 1, также это вектор, а не матрица\n",
        "\n",
        "---\n",
        "\n",
        "\n"
      ]
    },
    {
      "cell_type": "code",
      "metadata": {
        "id": "TZOGiHhEaLi_",
        "colab_type": "code",
        "colab": {}
      },
      "source": [
        ""
      ],
      "execution_count": 0,
      "outputs": []
    },
    {
      "cell_type": "markdown",
      "metadata": {
        "id": "uQMb1k49rOe7",
        "colab_type": "text"
      },
      "source": [
        "# Building a Logistic Regression Model with Pytorch"
      ]
    },
    {
      "cell_type": "code",
      "metadata": {
        "id": "aN8cglZFrY4p",
        "colab_type": "code",
        "colab": {}
      },
      "source": [
        "\"\"\"\n",
        "Step 1: Load Dataset\n",
        "Step 2: Make Dataset iterable\n",
        "Step 3: Create Model Class\n",
        "Step 4: Instantiate Model Class\n",
        "Step 5: Instantiate Loss Class\n",
        "Step 6: Instantiate Optimizer CLass\n",
        "Step 7: Train Model\n",
        "\"\"\"\n",
        "# Step 1: Loading MNIST Train Dataset\n",
        "\n",
        "import torch\n",
        "import torch.nn as nn\n",
        "import torchvision.transforms as transforms\n",
        "import torchvision.datasets as dsets\n",
        "\n",
        "train_dataset = dsets.MNIST(root='./data',\n",
        "                            train=True,\n",
        "                            transform=transforms.ToTensor(),\n",
        "                            download=True)"
      ],
      "execution_count": 0,
      "outputs": []
    },
    {
      "cell_type": "code",
      "metadata": {
        "id": "yGXAED2Htdjl",
        "colab_type": "code",
        "outputId": "b10a801f-a3a8-468c-b4f3-e70c179f76dd",
        "colab": {
          "base_uri": "https://localhost:8080/",
          "height": 34
        }
      },
      "source": [
        "len(train_dataset)"
      ],
      "execution_count": 61,
      "outputs": [
        {
          "output_type": "execute_result",
          "data": {
            "text/plain": [
              "60000"
            ]
          },
          "metadata": {
            "tags": []
          },
          "execution_count": 61
        }
      ]
    },
    {
      "cell_type": "code",
      "metadata": {
        "id": "2YawMZH1tjPZ",
        "colab_type": "code",
        "outputId": "4c18c66e-93cb-4681-a133-a5f081ac560c",
        "colab": {
          "base_uri": "https://localhost:8080/",
          "height": 1000
        }
      },
      "source": [
        "train_dataset[0]"
      ],
      "execution_count": 62,
      "outputs": [
        {
          "output_type": "execute_result",
          "data": {
            "text/plain": [
              "(tensor([[[0.0000, 0.0000, 0.0000, 0.0000, 0.0000, 0.0000, 0.0000, 0.0000,\n",
              "           0.0000, 0.0000, 0.0000, 0.0000, 0.0000, 0.0000, 0.0000, 0.0000,\n",
              "           0.0000, 0.0000, 0.0000, 0.0000, 0.0000, 0.0000, 0.0000, 0.0000,\n",
              "           0.0000, 0.0000, 0.0000, 0.0000],\n",
              "          [0.0000, 0.0000, 0.0000, 0.0000, 0.0000, 0.0000, 0.0000, 0.0000,\n",
              "           0.0000, 0.0000, 0.0000, 0.0000, 0.0000, 0.0000, 0.0000, 0.0000,\n",
              "           0.0000, 0.0000, 0.0000, 0.0000, 0.0000, 0.0000, 0.0000, 0.0000,\n",
              "           0.0000, 0.0000, 0.0000, 0.0000],\n",
              "          [0.0000, 0.0000, 0.0000, 0.0000, 0.0000, 0.0000, 0.0000, 0.0000,\n",
              "           0.0000, 0.0000, 0.0000, 0.0000, 0.0000, 0.0000, 0.0000, 0.0000,\n",
              "           0.0000, 0.0000, 0.0000, 0.0000, 0.0000, 0.0000, 0.0000, 0.0000,\n",
              "           0.0000, 0.0000, 0.0000, 0.0000],\n",
              "          [0.0000, 0.0000, 0.0000, 0.0000, 0.0000, 0.0000, 0.0000, 0.0000,\n",
              "           0.0000, 0.0000, 0.0000, 0.0000, 0.0000, 0.0000, 0.0000, 0.0000,\n",
              "           0.0000, 0.0000, 0.0000, 0.0000, 0.0000, 0.0000, 0.0000, 0.0000,\n",
              "           0.0000, 0.0000, 0.0000, 0.0000],\n",
              "          [0.0000, 0.0000, 0.0000, 0.0000, 0.0000, 0.0000, 0.0000, 0.0000,\n",
              "           0.0000, 0.0000, 0.0000, 0.0000, 0.0000, 0.0000, 0.0000, 0.0000,\n",
              "           0.0000, 0.0000, 0.0000, 0.0000, 0.0000, 0.0000, 0.0000, 0.0000,\n",
              "           0.0000, 0.0000, 0.0000, 0.0000],\n",
              "          [0.0000, 0.0000, 0.0000, 0.0000, 0.0000, 0.0000, 0.0000, 0.0000,\n",
              "           0.0000, 0.0000, 0.0000, 0.0000, 0.0118, 0.0706, 0.0706, 0.0706,\n",
              "           0.4941, 0.5333, 0.6863, 0.1020, 0.6510, 1.0000, 0.9686, 0.4980,\n",
              "           0.0000, 0.0000, 0.0000, 0.0000],\n",
              "          [0.0000, 0.0000, 0.0000, 0.0000, 0.0000, 0.0000, 0.0000, 0.0000,\n",
              "           0.1176, 0.1412, 0.3686, 0.6039, 0.6667, 0.9922, 0.9922, 0.9922,\n",
              "           0.9922, 0.9922, 0.8824, 0.6745, 0.9922, 0.9490, 0.7647, 0.2510,\n",
              "           0.0000, 0.0000, 0.0000, 0.0000],\n",
              "          [0.0000, 0.0000, 0.0000, 0.0000, 0.0000, 0.0000, 0.0000, 0.1922,\n",
              "           0.9333, 0.9922, 0.9922, 0.9922, 0.9922, 0.9922, 0.9922, 0.9922,\n",
              "           0.9922, 0.9843, 0.3647, 0.3216, 0.3216, 0.2196, 0.1529, 0.0000,\n",
              "           0.0000, 0.0000, 0.0000, 0.0000],\n",
              "          [0.0000, 0.0000, 0.0000, 0.0000, 0.0000, 0.0000, 0.0000, 0.0706,\n",
              "           0.8588, 0.9922, 0.9922, 0.9922, 0.9922, 0.9922, 0.7765, 0.7137,\n",
              "           0.9686, 0.9451, 0.0000, 0.0000, 0.0000, 0.0000, 0.0000, 0.0000,\n",
              "           0.0000, 0.0000, 0.0000, 0.0000],\n",
              "          [0.0000, 0.0000, 0.0000, 0.0000, 0.0000, 0.0000, 0.0000, 0.0000,\n",
              "           0.3137, 0.6118, 0.4196, 0.9922, 0.9922, 0.8039, 0.0431, 0.0000,\n",
              "           0.1686, 0.6039, 0.0000, 0.0000, 0.0000, 0.0000, 0.0000, 0.0000,\n",
              "           0.0000, 0.0000, 0.0000, 0.0000],\n",
              "          [0.0000, 0.0000, 0.0000, 0.0000, 0.0000, 0.0000, 0.0000, 0.0000,\n",
              "           0.0000, 0.0549, 0.0039, 0.6039, 0.9922, 0.3529, 0.0000, 0.0000,\n",
              "           0.0000, 0.0000, 0.0000, 0.0000, 0.0000, 0.0000, 0.0000, 0.0000,\n",
              "           0.0000, 0.0000, 0.0000, 0.0000],\n",
              "          [0.0000, 0.0000, 0.0000, 0.0000, 0.0000, 0.0000, 0.0000, 0.0000,\n",
              "           0.0000, 0.0000, 0.0000, 0.5451, 0.9922, 0.7451, 0.0078, 0.0000,\n",
              "           0.0000, 0.0000, 0.0000, 0.0000, 0.0000, 0.0000, 0.0000, 0.0000,\n",
              "           0.0000, 0.0000, 0.0000, 0.0000],\n",
              "          [0.0000, 0.0000, 0.0000, 0.0000, 0.0000, 0.0000, 0.0000, 0.0000,\n",
              "           0.0000, 0.0000, 0.0000, 0.0431, 0.7451, 0.9922, 0.2745, 0.0000,\n",
              "           0.0000, 0.0000, 0.0000, 0.0000, 0.0000, 0.0000, 0.0000, 0.0000,\n",
              "           0.0000, 0.0000, 0.0000, 0.0000],\n",
              "          [0.0000, 0.0000, 0.0000, 0.0000, 0.0000, 0.0000, 0.0000, 0.0000,\n",
              "           0.0000, 0.0000, 0.0000, 0.0000, 0.1373, 0.9451, 0.8824, 0.6275,\n",
              "           0.4235, 0.0039, 0.0000, 0.0000, 0.0000, 0.0000, 0.0000, 0.0000,\n",
              "           0.0000, 0.0000, 0.0000, 0.0000],\n",
              "          [0.0000, 0.0000, 0.0000, 0.0000, 0.0000, 0.0000, 0.0000, 0.0000,\n",
              "           0.0000, 0.0000, 0.0000, 0.0000, 0.0000, 0.3176, 0.9412, 0.9922,\n",
              "           0.9922, 0.4667, 0.0980, 0.0000, 0.0000, 0.0000, 0.0000, 0.0000,\n",
              "           0.0000, 0.0000, 0.0000, 0.0000],\n",
              "          [0.0000, 0.0000, 0.0000, 0.0000, 0.0000, 0.0000, 0.0000, 0.0000,\n",
              "           0.0000, 0.0000, 0.0000, 0.0000, 0.0000, 0.0000, 0.1765, 0.7294,\n",
              "           0.9922, 0.9922, 0.5882, 0.1059, 0.0000, 0.0000, 0.0000, 0.0000,\n",
              "           0.0000, 0.0000, 0.0000, 0.0000],\n",
              "          [0.0000, 0.0000, 0.0000, 0.0000, 0.0000, 0.0000, 0.0000, 0.0000,\n",
              "           0.0000, 0.0000, 0.0000, 0.0000, 0.0000, 0.0000, 0.0000, 0.0627,\n",
              "           0.3647, 0.9882, 0.9922, 0.7333, 0.0000, 0.0000, 0.0000, 0.0000,\n",
              "           0.0000, 0.0000, 0.0000, 0.0000],\n",
              "          [0.0000, 0.0000, 0.0000, 0.0000, 0.0000, 0.0000, 0.0000, 0.0000,\n",
              "           0.0000, 0.0000, 0.0000, 0.0000, 0.0000, 0.0000, 0.0000, 0.0000,\n",
              "           0.0000, 0.9765, 0.9922, 0.9765, 0.2510, 0.0000, 0.0000, 0.0000,\n",
              "           0.0000, 0.0000, 0.0000, 0.0000],\n",
              "          [0.0000, 0.0000, 0.0000, 0.0000, 0.0000, 0.0000, 0.0000, 0.0000,\n",
              "           0.0000, 0.0000, 0.0000, 0.0000, 0.0000, 0.0000, 0.1804, 0.5098,\n",
              "           0.7176, 0.9922, 0.9922, 0.8118, 0.0078, 0.0000, 0.0000, 0.0000,\n",
              "           0.0000, 0.0000, 0.0000, 0.0000],\n",
              "          [0.0000, 0.0000, 0.0000, 0.0000, 0.0000, 0.0000, 0.0000, 0.0000,\n",
              "           0.0000, 0.0000, 0.0000, 0.0000, 0.1529, 0.5804, 0.8980, 0.9922,\n",
              "           0.9922, 0.9922, 0.9804, 0.7137, 0.0000, 0.0000, 0.0000, 0.0000,\n",
              "           0.0000, 0.0000, 0.0000, 0.0000],\n",
              "          [0.0000, 0.0000, 0.0000, 0.0000, 0.0000, 0.0000, 0.0000, 0.0000,\n",
              "           0.0000, 0.0000, 0.0941, 0.4471, 0.8667, 0.9922, 0.9922, 0.9922,\n",
              "           0.9922, 0.7882, 0.3059, 0.0000, 0.0000, 0.0000, 0.0000, 0.0000,\n",
              "           0.0000, 0.0000, 0.0000, 0.0000],\n",
              "          [0.0000, 0.0000, 0.0000, 0.0000, 0.0000, 0.0000, 0.0000, 0.0000,\n",
              "           0.0902, 0.2588, 0.8353, 0.9922, 0.9922, 0.9922, 0.9922, 0.7765,\n",
              "           0.3176, 0.0078, 0.0000, 0.0000, 0.0000, 0.0000, 0.0000, 0.0000,\n",
              "           0.0000, 0.0000, 0.0000, 0.0000],\n",
              "          [0.0000, 0.0000, 0.0000, 0.0000, 0.0000, 0.0000, 0.0706, 0.6706,\n",
              "           0.8588, 0.9922, 0.9922, 0.9922, 0.9922, 0.7647, 0.3137, 0.0353,\n",
              "           0.0000, 0.0000, 0.0000, 0.0000, 0.0000, 0.0000, 0.0000, 0.0000,\n",
              "           0.0000, 0.0000, 0.0000, 0.0000],\n",
              "          [0.0000, 0.0000, 0.0000, 0.0000, 0.2157, 0.6745, 0.8863, 0.9922,\n",
              "           0.9922, 0.9922, 0.9922, 0.9569, 0.5216, 0.0431, 0.0000, 0.0000,\n",
              "           0.0000, 0.0000, 0.0000, 0.0000, 0.0000, 0.0000, 0.0000, 0.0000,\n",
              "           0.0000, 0.0000, 0.0000, 0.0000],\n",
              "          [0.0000, 0.0000, 0.0000, 0.0000, 0.5333, 0.9922, 0.9922, 0.9922,\n",
              "           0.8314, 0.5294, 0.5176, 0.0627, 0.0000, 0.0000, 0.0000, 0.0000,\n",
              "           0.0000, 0.0000, 0.0000, 0.0000, 0.0000, 0.0000, 0.0000, 0.0000,\n",
              "           0.0000, 0.0000, 0.0000, 0.0000],\n",
              "          [0.0000, 0.0000, 0.0000, 0.0000, 0.0000, 0.0000, 0.0000, 0.0000,\n",
              "           0.0000, 0.0000, 0.0000, 0.0000, 0.0000, 0.0000, 0.0000, 0.0000,\n",
              "           0.0000, 0.0000, 0.0000, 0.0000, 0.0000, 0.0000, 0.0000, 0.0000,\n",
              "           0.0000, 0.0000, 0.0000, 0.0000],\n",
              "          [0.0000, 0.0000, 0.0000, 0.0000, 0.0000, 0.0000, 0.0000, 0.0000,\n",
              "           0.0000, 0.0000, 0.0000, 0.0000, 0.0000, 0.0000, 0.0000, 0.0000,\n",
              "           0.0000, 0.0000, 0.0000, 0.0000, 0.0000, 0.0000, 0.0000, 0.0000,\n",
              "           0.0000, 0.0000, 0.0000, 0.0000],\n",
              "          [0.0000, 0.0000, 0.0000, 0.0000, 0.0000, 0.0000, 0.0000, 0.0000,\n",
              "           0.0000, 0.0000, 0.0000, 0.0000, 0.0000, 0.0000, 0.0000, 0.0000,\n",
              "           0.0000, 0.0000, 0.0000, 0.0000, 0.0000, 0.0000, 0.0000, 0.0000,\n",
              "           0.0000, 0.0000, 0.0000, 0.0000]]]), 5)"
            ]
          },
          "metadata": {
            "tags": []
          },
          "execution_count": 62
        }
      ]
    },
    {
      "cell_type": "code",
      "metadata": {
        "id": "v0uSOZBv7la1",
        "colab_type": "code",
        "outputId": "29eb2ae1-d24c-4508-fa62-0efbfb0dc7e6",
        "colab": {
          "base_uri": "https://localhost:8080/",
          "height": 34
        }
      },
      "source": [
        "type(train_dataset[0])"
      ],
      "execution_count": 63,
      "outputs": [
        {
          "output_type": "execute_result",
          "data": {
            "text/plain": [
              "tuple"
            ]
          },
          "metadata": {
            "tags": []
          },
          "execution_count": 63
        }
      ]
    },
    {
      "cell_type": "code",
      "metadata": {
        "id": "D2dfyegIC6eK",
        "colab_type": "code",
        "outputId": "b6e43de6-88b6-4d23-89c3-393d888c432c",
        "colab": {
          "base_uri": "https://localhost:8080/",
          "height": 34
        }
      },
      "source": [
        "# inspecting training dataset first element of tuple\n",
        "# input matrix\n",
        "train_dataset[0][0].size()"
      ],
      "execution_count": 64,
      "outputs": [
        {
          "output_type": "execute_result",
          "data": {
            "text/plain": [
              "torch.Size([1, 28, 28])"
            ]
          },
          "metadata": {
            "tags": []
          },
          "execution_count": 64
        }
      ]
    },
    {
      "cell_type": "code",
      "metadata": {
        "id": "9xSPCBKHDV3c",
        "colab_type": "code",
        "outputId": "7d40007e-18ce-4479-8e57-885e2f0c900d",
        "colab": {
          "base_uri": "https://localhost:8080/",
          "height": 34
        }
      },
      "source": [
        "# inspecting training dataset second element of tuple\n",
        "\"\"\" The second element actually represetns the image's label. Meaning if second element says 5, it means the 28x28 \n",
        "    matrix of number represents a digit 5.\"\"\"\n",
        "  \n",
        "train_dataset[0][1]"
      ],
      "execution_count": 65,
      "outputs": [
        {
          "output_type": "execute_result",
          "data": {
            "text/plain": [
              "5"
            ]
          },
          "metadata": {
            "tags": []
          },
          "execution_count": 65
        }
      ]
    },
    {
      "cell_type": "markdown",
      "metadata": {
        "id": "_l1dkqsWEPuf",
        "colab_type": "text"
      },
      "source": [
        "### Displaying MNIST"
      ]
    },
    {
      "cell_type": "code",
      "metadata": {
        "id": "7wk_wQQjEGxx",
        "colab_type": "code",
        "outputId": "9fedf192-adb4-489f-cc9d-55b87be462e4",
        "colab": {
          "base_uri": "https://localhost:8080/",
          "height": 34
        }
      },
      "source": [
        "# Verifying shape of MNIST image\n",
        "\n",
        "\"\"\" As mentioned, a single MNIST image is of the shape 28 x 28 pixels \"\"\"\n",
        "\n",
        "import matplotlib.pyplot as plt\n",
        "%matplotlib inline\n",
        "import numpy as np\n",
        "\n",
        "train_dataset[0][0].numpy().shape"
      ],
      "execution_count": 66,
      "outputs": [
        {
          "output_type": "execute_result",
          "data": {
            "text/plain": [
              "(1, 28, 28)"
            ]
          },
          "metadata": {
            "tags": []
          },
          "execution_count": 66
        }
      ]
    },
    {
      "cell_type": "code",
      "metadata": {
        "id": "2014UYJCE1lT",
        "colab_type": "code",
        "outputId": "bc676b82-868a-4e24-fe3a-ef1becc36edd",
        "colab": {
          "base_uri": "https://localhost:8080/",
          "height": 282
        }
      },
      "source": [
        "# Plot image of MNIST image\n",
        "show_img = train_dataset[0][0].numpy().reshape(28, 28)\n",
        "plt.imshow(show_img, cmap='gray')"
      ],
      "execution_count": 67,
      "outputs": [
        {
          "output_type": "execute_result",
          "data": {
            "text/plain": [
              "<matplotlib.image.AxesImage at 0x7fc60b554470>"
            ]
          },
          "metadata": {
            "tags": []
          },
          "execution_count": 67
        },
        {
          "output_type": "display_data",
          "data": {
            "image/png": "[encoded data removed]",
            "text/plain": [
              "<Figure size 432x288 with 1 Axes>"
            ]
          },
          "metadata": {
            "tags": []
          }
        }
      ]
    },
    {
      "cell_type": "code",
      "metadata": {
        "id": "5P12cNpcFLHw",
        "colab_type": "code",
        "outputId": "1c153b36-0726-4a24-cb14-df1e09edd46e",
        "colab": {
          "base_uri": "https://localhost:8080/",
          "height": 34
        }
      },
      "source": [
        "# Second element of tuple shows label\n",
        "\n",
        "train_dataset[0][1]"
      ],
      "execution_count": 68,
      "outputs": [
        {
          "output_type": "execute_result",
          "data": {
            "text/plain": [
              "5"
            ]
          },
          "metadata": {
            "tags": []
          },
          "execution_count": 68
        }
      ]
    },
    {
      "cell_type": "code",
      "metadata": {
        "id": "fgHi5XkOBvJN",
        "colab_type": "code",
        "outputId": "506f8994-2d03-4cc6-ff4f-8012e54c328d",
        "colab": {
          "base_uri": "https://localhost:8080/",
          "height": 282
        }
      },
      "source": [
        "# Plot second image of MNIST image\n",
        "\n",
        "show_img = train_dataset[1][0].numpy().reshape(28, 28)\n",
        "plt.imshow(show_img, cmap='gray')"
      ],
      "execution_count": 69,
      "outputs": [
        {
          "output_type": "execute_result",
          "data": {
            "text/plain": [
              "<matplotlib.image.AxesImage at 0x7fc60b531630>"
            ]
          },
          "metadata": {
            "tags": []
          },
          "execution_count": 69
        },
        {
          "output_type": "display_data",
          "data": {
            "image/png": "[encoded data removed]",
            "text/plain": [
              "<Figure size 432x288 with 1 Axes>"
            ]
          },
          "metadata": {
            "tags": []
          }
        }
      ]
    },
    {
      "cell_type": "code",
      "metadata": {
        "id": "hJxt2FyiCADO",
        "colab_type": "code",
        "outputId": "03f5e4e2-b981-44da-b875-0571cb5ba35a",
        "colab": {
          "base_uri": "https://localhost:8080/",
          "height": 34
        }
      },
      "source": [
        "# Second element of tuple shows label\n",
        "# Label\n",
        "train_dataset[1][1]"
      ],
      "execution_count": 70,
      "outputs": [
        {
          "output_type": "execute_result",
          "data": {
            "text/plain": [
              "0"
            ]
          },
          "metadata": {
            "tags": []
          },
          "execution_count": 70
        }
      ]
    },
    {
      "cell_type": "markdown",
      "metadata": {
        "id": "wa_2fz_2HI97",
        "colab_type": "text"
      },
      "source": [
        "### Step 1b: Loading MNIST Test Dataset"
      ]
    },
    {
      "cell_type": "code",
      "metadata": {
        "id": "5M_Z1haYHFyL",
        "colab_type": "code",
        "outputId": "8604c659-1631-4de2-d146-6f15998da3fc",
        "colab": {
          "base_uri": "https://localhost:8080/",
          "height": 34
        }
      },
      "source": [
        "test_dataset = dsets.MNIST(root= './data',\n",
        "             train=False,\n",
        "             transform=transforms.ToTensor())\n",
        "len(test_dataset)"
      ],
      "execution_count": 71,
      "outputs": [
        {
          "output_type": "execute_result",
          "data": {
            "text/plain": [
              "10000"
            ]
          },
          "metadata": {
            "tags": []
          },
          "execution_count": 71
        }
      ]
    },
    {
      "cell_type": "code",
      "metadata": {
        "id": "p-7pku0CIfjw",
        "colab_type": "code",
        "outputId": "94a9231b-71ef-42a5-d55f-d053baeb05fb",
        "colab": {
          "base_uri": "https://localhost:8080/",
          "height": 34
        }
      },
      "source": [
        "# Test dataset elements\n",
        "\"\"\"  \n",
        "Exactly like the training set, \n",
        "the testing set has 10k tuples containing the 28x28 matrices \n",
        "and their resplective labels \n",
        "\"\"\"\n",
        "type(test_dataset[0])"
      ],
      "execution_count": 72,
      "outputs": [
        {
          "output_type": "execute_result",
          "data": {
            "text/plain": [
              "tuple"
            ]
          },
          "metadata": {
            "tags": []
          },
          "execution_count": 72
        }
      ]
    },
    {
      "cell_type": "code",
      "metadata": {
        "id": "h1fCeEaDZ-Yo",
        "colab_type": "code",
        "outputId": "a450ee0c-c185-4c38-b6fc-fad29325ce8a",
        "colab": {
          "base_uri": "https://localhost:8080/",
          "height": 34
        }
      },
      "source": [
        "# Image matrix\n",
        "test_dataset[0][0].size()"
      ],
      "execution_count": 73,
      "outputs": [
        {
          "output_type": "execute_result",
          "data": {
            "text/plain": [
              "torch.Size([1, 28, 28])"
            ]
          },
          "metadata": {
            "tags": []
          },
          "execution_count": 73
        }
      ]
    },
    {
      "cell_type": "code",
      "metadata": {
        "id": "TFnYftLzceWa",
        "colab_type": "code",
        "outputId": "4b96ac1c-5ff1-4198-de71-ef4f567e9936",
        "colab": {
          "base_uri": "https://localhost:8080/",
          "height": 282
        }
      },
      "source": [
        "# Plot image sample from test dataset\n",
        "\n",
        "show_img = test_dataset[0][0].numpy().reshape(28, 28)\n",
        "plt.imshow(show_img, cmap='gray')"
      ],
      "execution_count": 74,
      "outputs": [
        {
          "output_type": "execute_result",
          "data": {
            "text/plain": [
              "<matplotlib.image.AxesImage at 0x7fc60b48eac8>"
            ]
          },
          "metadata": {
            "tags": []
          },
          "execution_count": 74
        },
        {
          "output_type": "display_data",
          "data": {
            "image/png": "[encoded data removed]",
            "text/plain": [
              "<Figure size 432x288 with 1 Axes>"
            ]
          },
          "metadata": {
            "tags": []
          }
        }
      ]
    },
    {
      "cell_type": "code",
      "metadata": {
        "id": "XBJBJngUcw53",
        "colab_type": "code",
        "outputId": "37588735-dc63-45ef-be02-8ef65f1f23eb",
        "colab": {
          "base_uri": "https://localhost:8080/",
          "height": 34
        }
      },
      "source": [
        "# Label\n",
        "test_dataset[0][1]"
      ],
      "execution_count": 75,
      "outputs": [
        {
          "output_type": "execute_result",
          "data": {
            "text/plain": [
              "7"
            ]
          },
          "metadata": {
            "tags": []
          },
          "execution_count": 75
        }
      ]
    },
    {
      "cell_type": "markdown",
      "metadata": {
        "id": "Bcsm0MBem7zw",
        "colab_type": "text"
      },
      "source": [
        "### Step 2: Make Dataset iterable\n",
        "\n",
        "1. Aim: make the dataset iterable\n",
        "2. totaldata: 60000\n",
        "3. mini-batch: 100:\n",
        "3. Number of examples in 1 iteration\n",
        "4. Iterations: 3000\n",
        "4. 1 iteration: one mini-batch forward & backward pass\n",
        "5. epochs:\n",
        "5. epoch: running through the whole dataset once\n",
        "5. epochs = iterations : totaldata/minibatch = 3000 : 60000/100 = 5"
      ]
    },
    {
      "cell_type": "code",
      "metadata": {
        "id": "zNMqnA7Gc1a6",
        "colab_type": "code",
        "colab": {
          "base_uri": "https://localhost:8080/",
          "height": 34
        },
        "outputId": "53052b28-a7a4-4872-a1d2-2eaaa501aa33"
      },
      "source": [
        "len(train_dataset)"
      ],
      "execution_count": 76,
      "outputs": [
        {
          "output_type": "execute_result",
          "data": {
            "text/plain": [
              "60000"
            ]
          },
          "metadata": {
            "tags": []
          },
          "execution_count": 76
        }
      ]
    },
    {
      "cell_type": "code",
      "metadata": {
        "id": "_dawaGxbpNZw",
        "colab_type": "code",
        "colab": {
          "base_uri": "https://localhost:8080/",
          "height": 34
        },
        "outputId": "c7ce7ead-6951-4c34-ba7d-17577f22c3d1"
      },
      "source": [
        "\"\"\"   \n",
        "When the model goes through the whole 60k images once, \n",
        "learning how to classify 0-9, it's consider 1 epoch.\n",
        "However, there's a concept of batch size where it means the model \n",
        "would look at 100 images before updating the model's weights, \n",
        "thereby learning. When the model updates its weights (parameters) \n",
        "after looking at all the images, this is considered 1 iteration.\n",
        "\"\"\"\n",
        "batch_size = 100\n",
        "\n",
        "# We arbitrarily set 3000 iterations here whisch means the model would update 3000 times\n",
        "n_iters = 3000\n",
        "\n",
        "# One epoch consists of 60000/100 = 600 iterations.\n",
        "# Because we would like to go through 3000 iterations,\n",
        "# this implies we would have 3000/600 = 5 epochs as each epoch has 600 iterations.\n",
        "\n",
        "num_epochs = n_iters / (len(train_dataset) / batch_size)\n",
        "num_epochs = int(num_epochs)\n",
        "num_epochs"
      ],
      "execution_count": 78,
      "outputs": [
        {
          "output_type": "execute_result",
          "data": {
            "text/plain": [
              "5"
            ]
          },
          "metadata": {
            "tags": []
          },
          "execution_count": 78
        }
      ]
    },
    {
      "cell_type": "code",
      "metadata": {
        "id": "qeuWm8zTssMZ",
        "colab_type": "code",
        "colab": {}
      },
      "source": [
        "# Create iterable object: Training Dataset\n",
        "\n",
        "train_loader = torch.utils.data.DataLoader(dataset=train_dataset,\n",
        "                                           batch_size=batch_size,\n",
        "                                           shuffle=True)"
      ],
      "execution_count": 0,
      "outputs": []
    },
    {
      "cell_type": "code",
      "metadata": {
        "id": "ObH02g_I09XW",
        "colab_type": "code",
        "colab": {
          "base_uri": "https://localhost:8080/",
          "height": 34
        },
        "outputId": "2a647bf7-19af-404e-cde9-febcb35fde84"
      },
      "source": [
        "# check iterability \n",
        "import collections\n",
        "isinstance(train_loader, collections.Iterable)"
      ],
      "execution_count": 81,
      "outputs": [
        {
          "output_type": "execute_result",
          "data": {
            "text/plain": [
              "True"
            ]
          },
          "metadata": {
            "tags": []
          },
          "execution_count": 81
        }
      ]
    },
    {
      "cell_type": "code",
      "metadata": {
        "id": "cevjgc2n2VTk",
        "colab_type": "code",
        "colab": {}
      },
      "source": [
        "# Create Iterable object: Testig dataset\n",
        "\n",
        "test_loader = torch.utils.data.DataLoader(dataset=test_dataset,\n",
        "                                          batch_size=batch_size,\n",
        "                                          shuffle=False)"
      ],
      "execution_count": 0,
      "outputs": []
    },
    {
      "cell_type": "code",
      "metadata": {
        "id": "gXmKTeCy2nn6",
        "colab_type": "code",
        "colab": {
          "base_uri": "https://localhost:8080/",
          "height": 34
        },
        "outputId": "087467c7-a197-4ace-8e66-deae385c7b29"
      },
      "source": [
        "isinstance(test_loader, collections.Iterable)"
      ],
      "execution_count": 84,
      "outputs": [
        {
          "output_type": "execute_result",
          "data": {
            "text/plain": [
              "True"
            ]
          },
          "metadata": {
            "tags": []
          },
          "execution_count": 84
        }
      ]
    },
    {
      "cell_type": "code",
      "metadata": {
        "id": "RAf5kJfb2vJi",
        "colab_type": "code",
        "colab": {
          "base_uri": "https://localhost:8080/",
          "height": 51
        },
        "outputId": "1d57c73b-44fe-44ad-f77c-34a8760d95c9"
      },
      "source": [
        "# Iterate through dataset\n",
        "img_1 = np.ones((28, 28))\n",
        "img_2 = np.ones((28, 28))\n",
        "lst = [img_1, img_2]\n",
        "\n",
        "# Need to iterate\n",
        "# Think of numbers as the images\n",
        "for i in lst:\n",
        "  print(i.shape)\n"
      ],
      "execution_count": 86,
      "outputs": [
        {
          "output_type": "stream",
          "text": [
            "(28, 28)\n",
            "(28, 28)\n"
          ],
          "name": "stdout"
        }
      ]
    },
    {
      "cell_type": "markdown",
      "metadata": {
        "id": "TAykZcl93hpN",
        "colab_type": "text"
      },
      "source": [
        "### Step 3: Building Model"
      ]
    },
    {
      "cell_type": "code",
      "metadata": {
        "id": "FlamvGoy3ZzA",
        "colab_type": "code",
        "colab": {}
      },
      "source": [
        "# Create model class: same as linear regression!:\n",
        "\n",
        "class LogisticRegressionModel(nn.Module):\n",
        "  def __init__(self, input_dim, output_dim):\n",
        "    super(LogisticRegressionModel, self).__init__()\n",
        "    self.linear = nn.Linear(input_dim, output_dim)\n",
        "  \n",
        "  def forward(self, x):\n",
        "    out = self.linear(x)\n",
        "    return out"
      ],
      "execution_count": 0,
      "outputs": []
    },
    {
      "cell_type": "markdown",
      "metadata": {
        "id": "zwEF4W1Y4P3_",
        "colab_type": "text"
      },
      "source": [
        "### Step 4: Instantiate Model Class"
      ]
    },
    {
      "cell_type": "markdown",
      "metadata": {
        "id": "DmqwyzBD4jUr",
        "colab_type": "text"
      },
      "source": [
        "Input dimension(input_dim): Size of image = 28 x 28 (784)\n",
        "Ouput dimension(output_dim): 10 (0, 1, 2, 3, 4, 5, 6, 7, 8, 9)"
      ]
    },
    {
      "cell_type": "code",
      "metadata": {
        "id": "GD9dDM1Y4OLz",
        "colab_type": "code",
        "colab": {
          "base_uri": "https://localhost:8080/",
          "height": 34
        },
        "outputId": "ac2a7892-4270-4773-a3b7-32bbeccc97ef"
      },
      "source": [
        "# Check size of dataset \n",
        "# this should be 28 x 28\n",
        "train_dataset[0][0].size() "
      ],
      "execution_count": 88,
      "outputs": [
        {
          "output_type": "execute_result",
          "data": {
            "text/plain": [
              "torch.Size([1, 28, 28])"
            ]
          },
          "metadata": {
            "tags": []
          },
          "execution_count": 88
        }
      ]
    },
    {
      "cell_type": "code",
      "metadata": {
        "id": "FXGishnK5FhG",
        "colab_type": "code",
        "colab": {}
      },
      "source": [
        "# Instantiate model class based on input and ou dimensions\n",
        "\n",
        "input_dim = 28*28\n",
        "output_dim = 10\n",
        "\n",
        "model = LogisticRegressionModel(input_dim, output_dim)"
      ],
      "execution_count": 0,
      "outputs": []
    },
    {
      "cell_type": "code",
      "metadata": {
        "id": "RnBxDfxe7TGB",
        "colab_type": "code",
        "colab": {}
      },
      "source": [
        ""
      ],
      "execution_count": 0,
      "outputs": []
    },
    {
      "cell_type": "markdown",
      "metadata": {
        "id": "Ntb4HhFV7T5a",
        "colab_type": "text"
      },
      "source": [
        "### Step 5: Instantiate Loss Class.\n",
        "Logistic Regression: Cross Entropy Loss"
      ]
    },
    {
      "cell_type": "code",
      "metadata": {
        "id": "_kNU1uc27m1o",
        "colab_type": "code",
        "colab": {}
      },
      "source": [
        "# Create Cross Entry Loss Class\n",
        "criterion = nn.CrossEntropyLoss()"
      ],
      "execution_count": 0,
      "outputs": []
    },
    {
      "cell_type": "markdown",
      "metadata": {
        "id": "cOPOHr9N8Dmq",
        "colab_type": "text"
      },
      "source": [
        "**What happens in nn.CrossEntropyLoss()?**\n",
        "It does 2 things at the same time.\n",
        "\n",
        "\n",
        "1. Computes softmax(logistic/softmax function)\n",
        "2. Computes cross entropy\n",
        "![alt text](https://www.deeplearningwizard.com/deep_learning/practical_pytorch/images/cross_entropy_final_4.png)\n",
        "\n"
      ]
    },
    {
      "cell_type": "code",
      "metadata": {
        "id": "HI24JtYY7wIg",
        "colab_type": "code",
        "colab": {}
      },
      "source": [
        ""
      ],
      "execution_count": 0,
      "outputs": []
    },
    {
      "cell_type": "markdown",
      "metadata": {
        "id": "6RmgXr6i8otB",
        "colab_type": "text"
      },
      "source": [
        "### Step 6: Instantiate Optimizer class\n",
        "\n",
        "\n",
        "*   Simlified equation\n",
        "  *  <math xmlns=\"http://www.w3.org/1998/Math/MathML\">\n",
        "  <semantics>\n",
        "    <mrow>\n",
        "      <mi>&#x03B8;<!-- θ --></mi>\n",
        "      <mo>=</mo>\n",
        "      <mi>&#x03B8;<!-- θ --></mi>\n",
        "      <mo>&#x2212;<!-- − --></mo>\n",
        "      <mi>&#x03B7;<!-- η --></mi>\n",
        "      <mo>&#x22C5;<!-- ⋅ --></mo>\n",
        "      <msub>\n",
        "        <mi mathvariant=\"normal\">&#x2207;<!-- ∇ --></mi>\n",
        "        <mi>&#x03B8;<!-- θ --></mi>\n",
        "      </msub>\n",
        "    </mrow>\n",
        "    <annotation encoding=\"application/x-tex\">\n",
        "  </semantics>\n",
        "</math>, where <math xmlns=\"http://www.w3.org/1998/Math/MathML\">\n",
        "  <semantics>\n",
        "    <mi>&#x03B8;<!-- θ --></mi>\n",
        "    <annotation encoding=\"application/x-tex\"></annotation>\n",
        "  </semantics>\n",
        "</math>: parameters (our variables), <math xmlns=\"http://www.w3.org/1998/Math/MathML\">\n",
        "  <semantics>\n",
        "    <mi>&#x03B7;<!-- η --></mi>\n",
        "    <annotation encoding=\"application/x-tex\"></annotation>\n",
        "  </semantics>\n",
        "</math> : learning rate (how fast we want to learn),<math xmlns=\"http://www.w3.org/1998/Math/MathML\">\n",
        "  <semantics>\n",
        "    <msub>\n",
        "      <mi mathvariant=\"normal\">&#x2207;<!-- ∇ --></mi>\n",
        "      <mi>&#x03B8;<!-- θ --></mi>\n",
        "    </msub>\n",
        "    <annotation encoding=\"application/x-tex\"></annotation>\n",
        "  </semantics>\n",
        "</math>: parameter's gradients\n",
        "\n",
        "*   Even simplier equation\n",
        "  *  paramaters = parameters - learning_rate * parameters_gradients\n",
        "\n"
      ]
    },
    {
      "cell_type": "code",
      "metadata": {
        "id": "og54fwN1-ZMD",
        "colab_type": "code",
        "colab": {}
      },
      "source": [
        "# Create optimizer\n",
        "learning_rate =0.001\n",
        "optimizer = torch.optim.SGD(model.parameters(), lr=learning_rate)"
      ],
      "execution_count": 0,
      "outputs": []
    },
    {
      "cell_type": "code",
      "metadata": {
        "id": "nHtg6ElL-ntL",
        "colab_type": "code",
        "colab": {}
      },
      "source": [
        ""
      ],
      "execution_count": 0,
      "outputs": []
    }
  ]
}