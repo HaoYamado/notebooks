{
  "nbformat": 4,
  "nbformat_minor": 0,
  "metadata": {
    "colab": {
      "name": "Feedforward_Neural_Network.ipynb",
      "provenance": [],
      "collapsed_sections": [],
      "include_colab_link": true
    },
    "kernelspec": {
      "name": "python3",
      "display_name": "Python 3"
    }
  },
  "cells": [
    {
      "cell_type": "markdown",
      "metadata": {
        "id": "view-in-github",
        "colab_type": "text"
      },
      "source": [
        "<a href=\"https://colab.research.google.com/github/HaoYamado/notebooks/blob/master/Feedforward_Neural_Network.ipynb\" target=\"_parent\"><img src=\"https://colab.research.google.com/assets/colab-badge.svg\" alt=\"Open In Colab\"/></a>"
      ]
    },
    {
      "cell_type": "markdown",
      "metadata": {
        "id": "irQs0lPh-r1k",
        "colab_type": "text"
      },
      "source": [
        "# Feedforward Neural Network with PyTorch"
      ]
    },
    {
      "cell_type": "markdown",
      "metadata": {
        "id": "SEbiO5P_-3C1",
        "colab_type": "text"
      },
      "source": [
        "## About Feedforward Neural Network\n",
        "### Logistic Regression Transition to Neural Network\n",
        "#### Logistic Regression Review"
      ]
    },
    {
      "cell_type": "code",
      "metadata": {
        "id": "OzKXqrGv-i4y",
        "colab_type": "code",
        "outputId": "21b3a119-7f6c-487c-9a13-ea97b2731c22",
        "colab": {
          "base_uri": "https://localhost:8080/",
          "height": 68
        }
      },
      "source": [
        "# Define logistic regression model\n",
        "import torch\n",
        "import torch.nn as nn\n",
        "\n",
        "# Define our model class\n",
        "class LogisticRegressionModel(nn.Module):\n",
        "  def __init__(self, input_dim, output_dim):\n",
        "    super(LogisticRegressionModel, self).__init__()\n",
        "    self.linear = nn.Linear(input_dim, output_dim)\n",
        "  \n",
        "  def forward(self, x):\n",
        "    out = self.linear(x)\n",
        "    return out\n",
        "\n",
        "# instantiate the logistic regression model\n",
        "input_dim = 28*28\n",
        "output_dim = 10\n",
        "\n",
        "model = LogisticRegressionModel(input_dim, output_dim)\n",
        "print(model)"
      ],
      "execution_count": 3,
      "outputs": [
        {
          "output_type": "stream",
          "text": [
            "LogisticRegressionModel(\n",
            "  (linear): Linear(in_features=784, out_features=10, bias=True)\n",
            ")\n"
          ],
          "name": "stdout"
        }
      ]
    },
    {
      "cell_type": "markdown",
      "metadata": {
        "id": "_WVvhv8VL_LW",
        "colab_type": "text"
      },
      "source": [
        "## Build Feedforward Neural Network with PyTorch\n",
        "\n",
        "#### Model A: 1 Hidden layer Feedforward Neural Network (Sigmoid activation)\n",
        "![alt text](https://www.deeplearningwizard.com/deep_learning/practical_pytorch/images/nn1.png)\n",
        "\n",
        "#### Steps:\n",
        "*   Step 1: Load Dataset\n",
        "*   Step 2: Make Dataset Iterable\n",
        "*   Step 3: Create Model Class\n",
        "*   Step 4: Instantiate Model Class\n",
        "*   Step 5: Instantiate Loss Class\n",
        "*   Step 6: Instantiate Optimizer Class\n",
        "*   Step 7: Train Model\n",
        "\n",
        "## Step 1: Loading MNIST Train Dataset\n",
        "\n"
      ]
    },
    {
      "cell_type": "code",
      "metadata": {
        "id": "lP82KC9vATgW",
        "colab_type": "code",
        "colab": {}
      },
      "source": [
        "import torch\n",
        "import torch.nn as nn\n",
        "import torchvision.transforms as transforms\n",
        "import torchvision.datasets as dsets\n",
        "\n",
        "train_dataset = dsets.MNIST(root='./data',\n",
        "                            train=True,\n",
        "                            transform=transforms.ToTensor(),\n",
        "                            download=True)\n",
        "test_dataset = dsets.MNIST(root='./data',\n",
        "                          train=False,\n",
        "                          transform=transforms.ToTensor())"
      ],
      "execution_count": 0,
      "outputs": []
    },
    {
      "cell_type": "markdown",
      "metadata": {
        "id": "2Eqtap7FOSwK",
        "colab_type": "text"
      },
      "source": [
        "## Step 2: Make Dataset Iterable"
      ]
    },
    {
      "cell_type": "code",
      "metadata": {
        "id": "gDI0XyCoOORu",
        "colab_type": "code",
        "colab": {
          "base_uri": "https://localhost:8080/",
          "height": 34
        },
        "outputId": "0892a0d3-4d9d-4a0b-add2-314ac9db436b"
      },
      "source": [
        "# Batch sizes and iterations\n",
        "\n",
        "60000/100"
      ],
      "execution_count": 8,
      "outputs": [
        {
          "output_type": "execute_result",
          "data": {
            "text/plain": [
              "600.0"
            ]
          },
          "metadata": {
            "tags": []
          },
          "execution_count": 8
        }
      ]
    },
    {
      "cell_type": "code",
      "metadata": {
        "id": "Ux-jD6WkPOw7",
        "colab_type": "code",
        "colab": {
          "base_uri": "https://localhost:8080/",
          "height": 34
        },
        "outputId": "93df780f-3c15-4d51-df3c-9ad7330f151a"
      },
      "source": [
        " # Epochs\n",
        " 600.0 * 5"
      ],
      "execution_count": 11,
      "outputs": [
        {
          "output_type": "execute_result",
          "data": {
            "text/plain": [
              "3000.0"
            ]
          },
          "metadata": {
            "tags": []
          },
          "execution_count": 11
        }
      ]
    },
    {
      "cell_type": "code",
      "metadata": {
        "id": "7VRj0cokPahy",
        "colab_type": "code",
        "colab": {}
      },
      "source": [
        "# Brinding batch size, iterations and epochs together\n",
        "\n",
        "batch_size = 100\n",
        "n_iters = 3000\n",
        "num_epochs = n_iters / (len(train_dataset) / batch_size)\n",
        "num_epochs = int(num_epochs)\n",
        "\n",
        "train_loader = torch.utils.data.DataLoader(dataset=train_dataset,\n",
        "                                           batch_size = batch_size,\n",
        "                                           shuffle=True)\n",
        "\n",
        "test_loader = torch.utils.data.DataLoader(dataset=test_dataset,\n",
        "                                          batch_size = batch_size,\n",
        "                                          shuffle=False)"
      ],
      "execution_count": 0,
      "outputs": []
    },
    {
      "cell_type": "code",
      "metadata": {
        "id": "QhPVPtuAQlew",
        "colab_type": "code",
        "colab": {}
      },
      "source": [
        ""
      ],
      "execution_count": 0,
      "outputs": []
    }
  ]
}