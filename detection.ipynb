{
  "nbformat": 4,
  "nbformat_minor": 0,
  "metadata": {
    "colab": {
      "name": "detection.ipynb",
      "provenance": [],
      "private_outputs": true,
      "collapsed_sections": [],
      "include_colab_link": true
    },
    "kernelspec": {
      "name": "python3",
      "display_name": "Python 3"
    }
  },
  "cells": [
    {
      "cell_type": "markdown",
      "metadata": {
        "id": "view-in-github",
        "colab_type": "text"
      },
      "source": [
        "<a href=\"https://colab.research.google.com/github/HaoYamado/notebooks/blob/master/detection.ipynb\" target=\"_parent\"><img src=\"https://colab.research.google.com/assets/colab-badge.svg\" alt=\"Open In Colab\"/></a>"
      ]
    },
    {
      "cell_type": "code",
      "metadata": {
        "id": "tS7u6pVWK0Tj",
        "colab_type": "code",
        "colab": {}
      },
      "source": [
        "import torch\n",
        "precision = 'fp32'\n",
        "ssd_model = torch.hub.load('NVIDIA/DeepLearningExamples:torchhub', 'nvidia_ssd', model_math=precision)"
      ],
      "execution_count": 0,
      "outputs": []
    },
    {
      "cell_type": "code",
      "metadata": {
        "id": "z0bYPy-HK6Mm",
        "colab_type": "code",
        "colab": {}
      },
      "source": [
        "utils = torch.hub.load('NVIDIA/DeepLearningExamples:torchhub', 'nvidia_ssd_processing_utils')"
      ],
      "execution_count": 0,
      "outputs": []
    },
    {
      "cell_type": "code",
      "metadata": {
        "id": "zCHH9w8tvUlf",
        "colab_type": "code",
        "colab": {}
      },
      "source": [
        "ssd_model.to('cuda')\n",
        "ssd_model.eval()"
      ],
      "execution_count": 0,
      "outputs": []
    },
    {
      "cell_type": "code",
      "metadata": {
        "id": "rtj3UtwlvW8q",
        "colab_type": "code",
        "colab": {}
      },
      "source": [
        "uris = [\n",
        "    'https://sun9-63.userapi.com/c855032/v855032749/15737c/P3EqZfej4yk.jpg',\n",
        "    'https://sun9-3.userapi.com/c635107/v635107068/1da79/AOYtD6wX-YA.jpg',\n",
        "]"
      ],
      "execution_count": 0,
      "outputs": []
    },
    {
      "cell_type": "code",
      "metadata": {
        "id": "kOFud7NcviuD",
        "colab_type": "code",
        "colab": {}
      },
      "source": [
        "inputs = [utils.prepare_input(uri) for uri in uris]\n",
        "tensor = utils.prepare_tensor(inputs, precision == 'fp16')"
      ],
      "execution_count": 0,
      "outputs": []
    },
    {
      "cell_type": "code",
      "metadata": {
        "id": "kFSgD0cwvmV8",
        "colab_type": "code",
        "colab": {}
      },
      "source": [
        "with torch.no_grad():\n",
        "    detections_batch = ssd_model(tensor)"
      ],
      "execution_count": 0,
      "outputs": []
    },
    {
      "cell_type": "code",
      "metadata": {
        "id": "7wdf1oh3vnUH",
        "colab_type": "code",
        "colab": {}
      },
      "source": [
        "results_per_input = utils.decode_results(detections_batch)\n",
        "best_results_per_input = [utils.pick_best(results, 0.40) for results in results_per_input]"
      ],
      "execution_count": 0,
      "outputs": []
    },
    {
      "cell_type": "code",
      "metadata": {
        "id": "lwqxnByivqom",
        "colab_type": "code",
        "colab": {}
      },
      "source": [
        "classes_to_labels = utils.get_coco_object_dictionary()"
      ],
      "execution_count": 0,
      "outputs": []
    },
    {
      "cell_type": "code",
      "metadata": {
        "id": "Ijar_qBEvtDQ",
        "colab_type": "code",
        "colab": {}
      },
      "source": [
        "import matplotlib.pyplot as plt\n",
        "import matplotlib.patches as patches\n",
        "import os\n",
        "path = '/home/haoyamado'\n",
        "for image_idx in range(len(best_results_per_input)):\n",
        "    fig, ax = plt.subplots(1)\n",
        "    # Show original, denormalized images...\n",
        "    image = inputs[image_idx] / 2 + 0.5\n",
        "    ax.imshow(image)\n",
        "    # ..with detections\n",
        "    bboxes, classes, confidences = best_results_per_input[image_idx]\n",
        "    for idx in range(len(bboxes)):\n",
        "        left, bot, right, top = bboxes[idx]\n",
        "        x, y, w, h = [val * 300 for val in [left, bot, right - left, top - bot]]\n",
        "        rect = patches.Rectangle((x, y), w, h, linewidth=1, edgecolor='r', facecolor='none')\n",
        "        ax.add_patch(rect)\n",
        "        ax.text(x, y, '{} {:.0f}%'.format(classes_to_labels[classes[idx] - 1], confidences[idx]*100), bbox=dict(facecolor='white', alpha=0.5))\n",
        "plt.show()\n",
        "plt.savefig('11101.png')\n",
        "plt.savefig('11102.png')\n",
        "plt.savefig('11103.png')"
      ],
      "execution_count": 0,
      "outputs": []
    },
    {
      "cell_type": "code",
      "metadata": {
        "id": "uZz8zChgwInc",
        "colab_type": "code",
        "colab": {}
      },
      "source": [
        ""
      ],
      "execution_count": 0,
      "outputs": []
    }
  ]
}