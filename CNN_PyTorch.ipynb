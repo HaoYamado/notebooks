{
  "nbformat": 4,
  "nbformat_minor": 0,
  "metadata": {
    "colab": {
      "name": "CNN_PyTorch.ipynb",
      "provenance": [],
      "collapsed_sections": [],
      "include_colab_link": true
    },
    "kernelspec": {
      "name": "python3",
      "display_name": "Python 3"
    }
  },
  "cells": [
    {
      "cell_type": "markdown",
      "metadata": {
        "id": "view-in-github",
        "colab_type": "text"
      },
      "source": [
        "<a href=\"https://colab.research.google.com/github/HaoYamado/notebooks/blob/master/CNN_PyTorch.ipynb\" target=\"_parent\"><img src=\"https://colab.research.google.com/assets/colab-badge.svg\" alt=\"Open In Colab\"/></a>"
      ]
    },
    {
      "cell_type": "markdown",
      "metadata": {
        "id": "nCbLRCLL0mM6",
        "colab_type": "text"
      },
      "source": [
        "# Convolutional Neural Network with PyTorch"
      ]
    },
    {
      "cell_type": "markdown",
      "metadata": {
        "id": "7fi7RaTf04Cn",
        "colab_type": "text"
      },
      "source": [
        "### Basic Convoluational Neural Network (CNN)\n",
        "*   A basic CNN just requires 2 additional layers!\n",
        "    *    Convolutional and pooling layers before our feedforward neural network\n",
        "\n",
        "**Fully Connected (FC) Layer**\n",
        "A layer with an affine function & non-linear function is called a Fully Connected (FC) Layer\n",
        "![alt text](https://www.deeplearningwizard.com/deep_learning/practical_pytorch/images/cnn1.png)\n",
        "\n",
        "##  One Convolutional Layer: High Level View\n",
        "![alt text](https://www.deeplearningwizard.com/deep_learning/practical_pytorch/images/cnn6-1.png)\n",
        "\n",
        "##  One Convolutional Layer: High Level View Summary\n",
        "![alt text](https://www.deeplearningwizard.com/deep_learning/practical_pytorch/images/cnn2.png)\n",
        "\n",
        "*   As the kernel is sliding/convolving across the image ---> 2 operations\n",
        "done per patch\n",
        "    *  a. Element-wise multiplication\n",
        "    *  b. Summation\n",
        "*   More kernels = more feature map channels\n",
        "    * Can capture more inforamtion about the input\n",
        "\n",
        "##  Multiple Convolutional Layers: High Level View\n",
        "![alt text](https://www.deeplearningwizard.com/deep_learning/practical_pytorch/images/cnn7-3.png)\n",
        "\n",
        "##  Pooling Layer: High Level View\n",
        "*   2 Common Types\n",
        "    *  Max Pooling\n",
        "    *  Average Pooling\n",
        "![alt text](https://www.deeplearningwizard.com/deep_learning/practical_pytorch/images/cnn8n2.png)\n",
        "\n",
        "##  Multiple Pooling Layers: High Level View\n",
        "![alt text](https://www.deeplearningwizard.com/deep_learning/practical_pytorch/images/cnn7-3.png)\n",
        "\n",
        "## Padding\n",
        "![alt text](https://www.deeplearningwizard.com/deep_learning/practical_pytorch/images/cnn9-4.png)\n",
        "\n",
        "##  Padding Summary\n",
        "*   Valid Padding (No Padding)\n",
        "   *   Output size < input size\n",
        "*   Same Padding (Zero Padding)\n",
        "   *   Output size = input size\n",
        "\n",
        "# Building a Covolutional Neural Network with PyTorch\n",
        "### Model A:\n",
        "*   2 Convolutional Layers\n",
        "    * Same Padding( same output size)\n",
        "*   2 Max Pooling Layers\n",
        "*   1 Fully Connected Layer\n",
        "![alt text](https://www.deeplearningwizard.com/deep_learning/practical_pytorch/images/cnn10-1.png)\n",
        "\n",
        "**Step 1: Loading MNIST Train Dataset**\n",
        "\n",
        "\n",
        "\n"
      ]
    },
    {
      "cell_type": "code",
      "metadata": {
        "id": "rQ7fgndD0OXT",
        "colab_type": "code",
        "colab": {}
      },
      "source": [
        "import torch \n",
        "import torch.nn as nn\n",
        "import torchvision.transforms as transforms\n",
        "import torchvision.datasets as dsets\n",
        "\n",
        "train_dataset = dsets.MNIST(root='./data',\n",
        "                            train=True,\n",
        "                            transform=transforms.ToTensor(),\n",
        "                            download=True)\n",
        "\n",
        "test_dataset =dsets.MNIST(root='./data',\n",
        "                          train=False,\n",
        "                          transform=transforms.ToTensor())\n"
      ],
      "execution_count": 0,
      "outputs": []
    },
    {
      "cell_type": "code",
      "metadata": {
        "id": "bvlyGVD068q7",
        "colab_type": "code",
        "colab": {}
      },
      "source": [
        "print(train_dataset.train_data.size())"
      ],
      "execution_count": 0,
      "outputs": []
    },
    {
      "cell_type": "code",
      "metadata": {
        "id": "NirpcxiTCT_Q",
        "colab_type": "code",
        "colab": {}
      },
      "source": [
        "print(train_dataset.train_labels.size())"
      ],
      "execution_count": 0,
      "outputs": []
    },
    {
      "cell_type": "code",
      "metadata": {
        "id": "uuhDgIVNCkAh",
        "colab_type": "code",
        "colab": {}
      },
      "source": [
        "print(test_dataset.test_data.size())"
      ],
      "execution_count": 0,
      "outputs": []
    },
    {
      "cell_type": "code",
      "metadata": {
        "id": "GyRfl3LACqwY",
        "colab_type": "code",
        "colab": {}
      },
      "source": [
        "print(test_dataset.test_labels.size())"
      ],
      "execution_count": 0,
      "outputs": []
    },
    {
      "cell_type": "markdown",
      "metadata": {
        "id": "1UjvZ_JOCyNa",
        "colab_type": "text"
      },
      "source": [
        "### Step 2: Make Dataset Iterable"
      ]
    },
    {
      "cell_type": "code",
      "metadata": {
        "id": "mK5TYukiCu75",
        "colab_type": "code",
        "colab": {}
      },
      "source": [
        "batch_size = 100\n",
        "n_iters = 3000\n",
        "num_epochs = n_iters /(len(train_dataset) / batch_size)\n",
        "num_epochs = int(num_epochs)\n",
        "\n",
        "train_loader = torch.utils.data.DataLoader(dataset=train_dataset,\n",
        "                                           batch_size=batch_size,\n",
        "                                           shuffle=True)\n",
        "\n",
        "test_loader = torch.utils.data.DataLoader(dataset=test_dataset,\n",
        "                                          batch_size=batch_size,\n",
        "                                          shuffle=False)"
      ],
      "execution_count": 0,
      "outputs": []
    },
    {
      "cell_type": "markdown",
      "metadata": {
        "id": "YbowecmSDvMb",
        "colab_type": "text"
      },
      "source": [
        "### Create Model Class\n",
        "![alt text](https://www.deeplearningwizard.com/deep_learning/practical_pytorch/images/cnn10-1.png)\n",
        "![alt text](https://sun9-47.userapi.com/c858224/v858224001/d8fad/zYupcCK2i_A.jpg)\n",
        "![alt text](https://www.deeplearningwizard.com/deep_learning/practical_pytorch/images/cnn10-2n.png)"
      ]
    },
    {
      "cell_type": "code",
      "metadata": {
        "id": "H79AF_WGDsTy",
        "colab_type": "code",
        "colab": {}
      },
      "source": [
        "class CNNModel(nn.Module):\n",
        "  def __init__(self):\n",
        "    super(CNNModel, self).__init__()\n",
        "    # Conv 1\n",
        "    self.cnn1 = nn.Conv2d(in_channels=1, out_channels=16, kernel_size=5, stride=1, padding=2)\n",
        "    self.relu1 = nn.ReLU()\n",
        "\n",
        "    # Max Pool 1\n",
        "    self.maxpool1 = nn.MaxPool2d(kernel_size=2)\n",
        "\n",
        "    # Conv2 \n",
        "    self.cnn2 = nn.Conv2d(in_channels=16, out_channels=32, kernel_size=5, stride=1, padding=2)\n",
        "    self.relu2 = nn.ReLU()\n",
        "\n",
        "    # Max Pool 2\n",
        "    self.maxpool2 = nn.MaxPool2d(kernel_size=2)\n",
        "\n",
        "    # Fully Connected 1(readout)\n",
        "    self.fc1 = nn.Linear(32 * 7 * 7, 10)\n",
        "\n",
        "  def forward(self, x):\n",
        "    # Conv 1\n",
        "    out = self.cnn1(x)\n",
        "    out = self.relu1(out)\n",
        "\n",
        "    # Max Pool 1\n",
        "    out = self.maxpool1(out)\n",
        "\n",
        "    # Conv 2 \n",
        "    out = self.cnn2(out)\n",
        "    out = self.relu2(out)\n",
        "\n",
        "    # Max Pool 2\n",
        "    out = self.maxpool2(out)\n",
        "\n",
        "    # Resize\n",
        "    # Original size: (00, 32, 7, 7)\n",
        "    # out.size(100, 32*7*7)\n",
        "    out = out.view(out.size(0), -1)\n",
        "\n",
        "    # Linear function (readout)\n",
        "    out = self.fc1(out)\n",
        "    return out\n"
      ],
      "execution_count": 0,
      "outputs": []
    },
    {
      "cell_type": "markdown",
      "metadata": {
        "id": "3pfAbFLRKXSY",
        "colab_type": "text"
      },
      "source": [
        "### Step 4: Instantiate Model Class"
      ]
    },
    {
      "cell_type": "code",
      "metadata": {
        "id": "KoSpyJhoKQf9",
        "colab_type": "code",
        "colab": {}
      },
      "source": [
        "# our model\n",
        "model = CNNModel()"
      ],
      "execution_count": 0,
      "outputs": []
    },
    {
      "cell_type": "markdown",
      "metadata": {
        "id": "2-keFvRiKiAI",
        "colab_type": "text"
      },
      "source": [
        "### Step 5: Instantiate Loss Class"
      ]
    },
    {
      "cell_type": "code",
      "metadata": {
        "id": "H3vELjAFKga5",
        "colab_type": "code",
        "colab": {}
      },
      "source": [
        "criterion = nn.CrossEntropyLoss()"
      ],
      "execution_count": 0,
      "outputs": []
    },
    {
      "cell_type": "markdown",
      "metadata": {
        "id": "zxXSkqm8KutL",
        "colab_type": "text"
      },
      "source": [
        "### Step 6: Instantiate Optimizer Class"
      ]
    },
    {
      "cell_type": "code",
      "metadata": {
        "id": "I9HThMcaKtjw",
        "colab_type": "code",
        "colab": {}
      },
      "source": [
        "learning_rate = 0.01\n",
        "optimizer = torch.optim.SGD(model.parameters(), lr=learning_rate)"
      ],
      "execution_count": 0,
      "outputs": []
    },
    {
      "cell_type": "markdown",
      "metadata": {
        "id": "fL2e9-H-LE5R",
        "colab_type": "text"
      },
      "source": [
        "### Paramters In-Depth"
      ]
    },
    {
      "cell_type": "code",
      "metadata": {
        "id": "cXJM0DECLARb",
        "colab_type": "code",
        "colab": {}
      },
      "source": [
        "print(model.parameters())\n",
        "print(len(list(model.parameters())))\n",
        "\n",
        "# Conv 1: 16 kernels\n",
        "print(list(model.parameters())[0].size())\n",
        "\n",
        "# Conv 1 Bias: 16 Kernels\n",
        "print(list(model.parameters())[1].size())\n",
        "\n",
        "# Conv 2: 32 kernels with depth = 16\n",
        "print(list(model.parameters())[2].size())\n",
        "\n",
        "# Conv 2 Bias: 32 kernels with depth = 16\n",
        "print(list(model.parameters())[3].size())\n",
        "\n",
        "# Fully Connected Layer 1\n",
        "print(list(model.parameters())[4].size())\n",
        "\n",
        "# Fully Connected Layer 1 Bias\n",
        "print(list(model.parameters())[5].size())"
      ],
      "execution_count": 0,
      "outputs": []
    },
    {
      "cell_type": "markdown",
      "metadata": {
        "id": "RqMMtgC7U36S",
        "colab_type": "text"
      },
      "source": [
        "### Step 7: Train Model\n",
        "\n",
        "\n",
        "\n",
        "*   Process\n",
        "    *  a. Convert inputs to tensors with gradient accumulation abilities\n",
        "      *   CNN Input: (1, 28, 28)\n",
        "      *   Feedforward NN input: (1, 28*28)\n",
        "    *  b. Clear gradient buffers\n",
        "    *  c. Get output given inputs\n",
        "    *  d. Get loss\n",
        "    *  e. Get gradients w.r.t. parameters\n",
        "    *  f. Update parameters using gradients\n",
        "      *   parameters = parameters - learning_rate * parameters_gradients  \n",
        "    *  g. REPEAT\n",
        "\n"
      ]
    },
    {
      "cell_type": "code",
      "metadata": {
        "id": "yKwbyOy1Uz75",
        "colab_type": "code",
        "outputId": "56e76062-598f-4176-dad8-22295cf074c3",
        "colab": {
          "base_uri": "https://localhost:8080/",
          "height": 102
        }
      },
      "source": [
        "iter = 0\n",
        "for epoch in range(num_epochs):\n",
        "  for i, (images, labels) in enumerate(train_loader):\n",
        "    # load images\n",
        "    images = images.requires_grad_()\n",
        "    # Clear gradients w.r.t. parameters\n",
        "    optimizer.zero_grad()\n",
        "    # Forward pass to get output/logits\n",
        "    outputs = model(images)\n",
        "    # Calculate Loss: softmax ---> cross entropy loss\n",
        "    loss = criterion(outputs, labels)\n",
        "    # Getting grdient w.r.t. parameters\n",
        "    loss.backward()\n",
        "    # Updatin parameters\n",
        "    optimizer.step()\n",
        "\n",
        "    iter += 1\n",
        "    if iter % 500 == 0:\n",
        "      # Calculate Accuracy\n",
        "      correct = 0\n",
        "      total = 0\n",
        "      # iterate through test dataset\n",
        "      for images, labels in test_loader:\n",
        "        # load images\n",
        "        images = images.requires_grad_()\n",
        "        # Forward pass only to get logits/outputs\n",
        "        outputs = model(images)\n",
        "        # Get predictions form maximum value\n",
        "        _, predicted = torch.max(outputs.data, 1)\n",
        "        # Total number of labels\n",
        "        total += labels.size(0)\n",
        "        # Total correct predictions\n",
        "        correct += (predicted == labels).sum()\n",
        "      accuracy = 100 * correct / total\n",
        "      print('Iteration: {}. Loss: {}. Accuracy: {}'.format(iter, loss.item(), accuracy))"
      ],
      "execution_count": 28,
      "outputs": [
        {
          "output_type": "stream",
          "text": [
            "Iteration: 1000. Loss: 0.2864760160446167. Accuracy: 91\n",
            "Iteration: 1500. Loss: 0.26354095339775085. Accuracy: 94\n",
            "Iteration: 2000. Loss: 0.1520862728357315. Accuracy: 95\n",
            "Iteration: 2500. Loss: 0.1268436759710312. Accuracy: 96\n",
            "Iteration: 3000. Loss: 0.13516736030578613. Accuracy: 96\n"
          ],
          "name": "stdout"
        }
      ]
    },
    {
      "cell_type": "markdown",
      "metadata": {
        "id": "VNGkThfeHCXA",
        "colab_type": "text"
      },
      "source": [
        "# Model B: \n",
        "\n",
        "\n",
        "\n",
        "*   2 Convolutional Layers\n",
        "    *   Same Padding(same outputs size)\n",
        "*   2 Average Pooling Layers\n",
        "*   1 Fully Connected Layer\n",
        "\n",
        "![alt text](https://www.deeplearningwizard.com/deep_learning/practical_pytorch/images/cnn10-4.png)\n",
        "\n",
        "\n",
        "\n"
      ]
    },
    {
      "cell_type": "code",
      "metadata": {
        "id": "nJqOkmoabynp",
        "colab_type": "code",
        "colab": {}
      },
      "source": [
        "import torch\n",
        "import torch.nn as nn\n",
        "import torchvision.transforms as transforms\n",
        "import torchvision.datasets as dsets\n",
        "\n",
        "'''\n",
        "STEP 1: LOADING DATASET\n",
        "'''\n",
        "\n",
        "train_dataset = dsets.MNIST(root='./data', \n",
        "                            train=True, \n",
        "                            transform=transforms.ToTensor(),\n",
        "                            download=True)\n",
        "\n",
        "test_dataset = dsets.MNIST(root='./data', \n",
        "                           train=False, \n",
        "                           transform=transforms.ToTensor())\n",
        "\n",
        "'''\n",
        "STEP 2: MAKING DATASET ITERABLE\n",
        "'''\n",
        "\n",
        "batch_size = 100\n",
        "n_iters = 3000\n",
        "num_epochs = n_iters / (len(train_dataset) / batch_size)\n",
        "num_epochs = int(num_epochs)\n",
        "\n",
        "train_loader = torch.utils.data.DataLoader(dataset=train_dataset, \n",
        "                                           batch_size=batch_size, \n",
        "                                           shuffle=True)\n",
        "\n",
        "test_loader = torch.utils.data.DataLoader(dataset=test_dataset, \n",
        "                                          batch_size=batch_size, \n",
        "                                          shuffle=False)\n",
        "\n",
        "'''\n",
        "STEP 3: CREATE MODEL CLASS\n",
        "'''\n",
        "class CNNModel(nn.Module):\n",
        "    def __init__(self):\n",
        "        super(CNNModel, self).__init__()\n",
        "\n",
        "        # Convolution 1\n",
        "        self.cnn1 = nn.Conv2d(in_channels=1, out_channels=16, kernel_size=5, stride=1, padding=2)\n",
        "        self.relu1 = nn.ReLU()\n",
        "\n",
        "        # Average pool 1\n",
        "        self.avgpool1 = nn.AvgPool2d(kernel_size=2)\n",
        "\n",
        "        # Convolution 2\n",
        "        self.cnn2 = nn.Conv2d(in_channels=16, out_channels=32, kernel_size=5, stride=1, padding=2)\n",
        "        self.relu2 = nn.ReLU()\n",
        "\n",
        "        # Average pool 2\n",
        "        self.avgpool2 = nn.AvgPool2d(kernel_size=2)\n",
        "\n",
        "        # Fully connected 1 (readout)\n",
        "        self.fc1 = nn.Linear(32 * 7 * 7, 10) \n",
        "\n",
        "    def forward(self, x):\n",
        "        # Convolution 1\n",
        "        out = self.cnn1(x)\n",
        "        out = self.relu1(out)\n",
        "\n",
        "        # Average pool 1\n",
        "        out = self.avgpool1(out)\n",
        "\n",
        "        # Convolution 2 \n",
        "        out = self.cnn2(out)\n",
        "        out = self.relu2(out)\n",
        "\n",
        "        # Max pool 2 \n",
        "        out = self.avgpool2(out)\n",
        "\n",
        "        # Resize\n",
        "        # Original size: (100, 32, 7, 7)\n",
        "        # out.size(0): 100\n",
        "        # New out size: (100, 32*7*7)\n",
        "        out = out.view(out.size(0), -1)\n",
        "\n",
        "        # Linear function (readout)\n",
        "        out = self.fc1(out)\n",
        "\n",
        "        return out\n",
        "\n",
        "'''\n",
        "STEP 4: INSTANTIATE MODEL CLASS\n",
        "'''\n",
        "\n",
        "model = CNNModel()\n",
        "\n",
        "'''\n",
        "STEP 5: INSTANTIATE LOSS CLASS\n",
        "'''\n",
        "criterion = nn.CrossEntropyLoss()\n",
        "\n",
        "\n",
        "'''\n",
        "STEP 6: INSTANTIATE OPTIMIZER CLASS\n",
        "'''\n",
        "learning_rate = 0.01\n",
        "\n",
        "optimizer = torch.optim.SGD(model.parameters(), lr=learning_rate)\n",
        "\n",
        "'''\n",
        "STEP 7: TRAIN THE MODEL\n",
        "'''\n",
        "iter = 0\n",
        "for epoch in range(num_epochs):\n",
        "    for i, (images, labels) in enumerate(train_loader):\n",
        "        # Load images as tensors with gradient accumulation abilities\n",
        "        images = images.requires_grad_()\n",
        "\n",
        "        # Clear gradients w.r.t. parameters\n",
        "        optimizer.zero_grad()\n",
        "\n",
        "        # Forward pass to get output/logits\n",
        "        outputs = model(images)\n",
        "\n",
        "        # Calculate Loss: softmax --> cross entropy loss\n",
        "        loss = criterion(outputs, labels)\n",
        "\n",
        "        # Getting gradients w.r.t. parameters\n",
        "        loss.backward()\n",
        "\n",
        "        # Updating parameters\n",
        "        optimizer.step()\n",
        "\n",
        "        iter += 1\n",
        "\n",
        "        if iter % 500 == 0:\n",
        "            # Calculate Accuracy         \n",
        "            correct = 0\n",
        "            total = 0\n",
        "            # Iterate through test dataset\n",
        "            for images, labels in test_loader:\n",
        "                # Load images to tensors with gradient accumulation abilities\n",
        "                images = images.requires_grad_()\n",
        "\n",
        "                # Forward pass only to get logits/output\n",
        "                outputs = model(images)\n",
        "\n",
        "                # Get predictions from the maximum value\n",
        "                _, predicted = torch.max(outputs.data, 1)\n",
        "\n",
        "                # Total number of labels\n",
        "                total += labels.size(0)\n",
        "\n",
        "                # Total correct predictions\n",
        "                correct += (predicted == labels).sum()\n",
        "\n",
        "            accuracy = 100 * correct / total\n",
        "\n",
        "            # Print Loss\n",
        "            print('Iteration: {}. Loss: {}. Accuracy: {}'.format(iter, loss.item(), accuracy))"
      ],
      "execution_count": 0,
      "outputs": []
    },
    {
      "cell_type": "markdown",
      "metadata": {
        "id": "9y21nYS7PTRd",
        "colab_type": "text"
      },
      "source": [
        "# Model C:\n",
        "\n",
        "\n",
        "*   2 Convolutional Layers\n",
        "    *  Valid Padding (smaller output size)\n",
        "*   2 Max Pooling Layers\n",
        "*   1 Fully connected Layer\n",
        "![alt text](https://www.deeplearningwizard.com/deep_learning/practical_pytorch/images/cnn10-6n.png)\n"
      ]
    },
    {
      "cell_type": "code",
      "metadata": {
        "id": "cxxs0Z7IdwQ6",
        "colab_type": "code",
        "colab": {}
      },
      "source": [
        "import torch\n",
        "import torch.nn as nn\n",
        "import torchvision.transforms as transforms\n",
        "import torchvision.datasets as dsets\n",
        "\n",
        "\"\"\"\n",
        "STEP 1: LOADING DATASET\n",
        "\"\"\"\n",
        "train_dataset = dsets.MNIST(root='./data',\n",
        "                            train=True,\n",
        "                            transform=transforms.ToTensor(),\n",
        "                            download=True)\n",
        "\n",
        "test_dataset = dsets.MNIST(root='./data',\n",
        "                           train=False,\n",
        "                           transform=transforms.ToTensor())\n",
        "\n",
        "\"\"\"\n",
        "STEP 2: MAKING DATASET ITERABLE\n",
        "\"\"\"\n",
        "batch_size = 100\n",
        "n_iters = 3000\n",
        "num_epochs = n_iters /(len(train_dataset) / batch_size)\n",
        "num_epochs = int(num_epochs)\n",
        "\n",
        "train_loader = torch.utils.data.DataLoader(dataset=train_dataset,\n",
        "                                           batch_size=batch_size,\n",
        "                                           shuffle=True)\n",
        "\n",
        "test_loader = torch.utils.data.DataLoader(dataset=test_dataset,\n",
        "                                          batch_size=batch_size,\n",
        "                                          shuffle=False)\n",
        "\n",
        "\"\"\"\n",
        "STEP 3: CREATE MODEL CLASS\n",
        "\"\"\"\n",
        "\n",
        "class CNNModel(nn.Module):\n",
        "  def __init__(self):\n",
        "    super(CNNModel, self).__init__()\n",
        "\n",
        "    # Convolutaional 1\n",
        "    self.cnn1 = nn.Conv2d(in_channels=1, out_channels=16, kernel_size=5, stride=1, padding=0)\n",
        "    self.relu1 = nn.ReLU()\n",
        "\n",
        "    # Max pool 1\n",
        "    self.maxpool1 = nn.MaxPool2d(kernel_size=2)\n",
        "\n",
        "    # Convolutional 2\n",
        "    self.cnn2 = nn.Conv2d(in_channels=16, out_channels=32, kernel_size=5, stride=1, padding=0)\n",
        "    self.relu2 = nn.ReLU()\n",
        "\n",
        "    # Max pool 2\n",
        "    self.maxpool2 = nn.MaxPool2d(kernel_size=2)\n",
        "\n",
        "    # Fully Connected 1 (readout)\n",
        "    self.fc1 = nn.Linear(32 * 4 * 4, 10)\n",
        "  \n",
        "  def forward(self, x):\n",
        "    # Conv 1\n",
        "    out = self.cnn1(x)\n",
        "    out = self.relu1(out)\n",
        "    # Max pool 1\n",
        "    out = self.maxpool1(out)\n",
        "    # Conv 2\n",
        "    out = self.cnn2(out)\n",
        "    out = self.relu2(out)\n",
        "    # Max pool 2\n",
        "    out = self.maxpool2(out)\n",
        "\n",
        "    # Resize\n",
        "    # Original size: (100, 32, 7, 7)\n",
        "    # out.size(0): 100\n",
        "    # New out size: (00, 32*7*7)\n",
        "    out = out.view(out.size(0), -1)\n",
        "    # Linear function (readout)\n",
        "    out = self.fc1(out)\n",
        "    return out\n",
        "\n",
        "\"\"\"\n",
        "STEP 4: INSTANTIATE MODEL CLASS\n",
        "\"\"\"\n",
        "model = CNNModel()\n",
        "\n",
        "\"\"\"\n",
        "STEP 5: INSTANTIATE LOSS CLASS\n",
        "\"\"\"\n",
        "criterion = nn.CrossEntropyLoss()\n",
        "\n",
        "\"\"\"\n",
        "STEP 6: INSTANTIATE OPTIMIZER CLASS\n",
        "\"\"\"\n",
        "learning_rate = 0.01\n",
        "optimizer = torch.optim.SGD(model.parameters(), lr=learning_rate)\n",
        "\n",
        "\"\"\"\n",
        "STEP 7: TRAIN THE MODEL\n",
        "\"\"\"\n",
        "iter = 0\n",
        "for epoch in range(num_epochs):\n",
        "  for i, (images, labels) in enumerate(train_loader):\n",
        "    # Load images as tensors with gradient accumulation abilities\n",
        "    images = images.requires_grad_()\n",
        "    # Clear gradients w.r.t. parameters\n",
        "    optimizer.zero_grad()\n",
        "    # Forward pass to get output.logits\n",
        "    outputs = model(images)\n",
        "    # Calculate Loss: softmax --> cross entropy loss\n",
        "    loss = criterion(outputs, labels)\n",
        "    # Getting gradients w.r.t. parameters\n",
        "    loss.backward()\n",
        "    # Updating parameters\n",
        "    optimizer.step()\n",
        "\n",
        "    iter += 1\n",
        "    if iter % 500 == 0:\n",
        "      # Calculate accuracy\n",
        "      correct = 0\n",
        "      total = 0\n",
        "      # Iterate through test dataset\n",
        "      for images, labels in test_loader:\n",
        "        # Load images to tensors woth gradient accumulation abilities\n",
        "        images = images.requires_grad_()\n",
        "        # Forward pass only to get logits/outputs\n",
        "        outputs = model(images)\n",
        "        # Get predictions form maximum value\n",
        "        _, predicted = torch.max(outputs.data, 1)\n",
        "        # Total number of labels\n",
        "        total += labels.size(0)\n",
        "        # Total correct predictions\n",
        "        correct += (predicted == labels).sum()\n",
        "      accuracy = 100 * correct / total\n",
        "      # Print loss\n",
        "      print('Iteration: {}. Loss: {}. Accuracy: {}'.format(iter, loss.item(), accuracy)) "
      ],
      "execution_count": 0,
      "outputs": []
    },
    {
      "cell_type": "code",
      "metadata": {
        "id": "nLFK7uq6dyX4",
        "colab_type": "code",
        "colab": {}
      },
      "source": [
        ""
      ],
      "execution_count": 0,
      "outputs": []
    }
  ]
}