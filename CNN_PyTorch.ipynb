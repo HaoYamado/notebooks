{
  "nbformat": 4,
  "nbformat_minor": 0,
  "metadata": {
    "colab": {
      "name": "CNN_PyTorch.ipynb",
      "provenance": [],
      "collapsed_sections": [],
      "include_colab_link": true
    },
    "kernelspec": {
      "name": "python3",
      "display_name": "Python 3"
    }
  },
  "cells": [
    {
      "cell_type": "markdown",
      "metadata": {
        "id": "view-in-github",
        "colab_type": "text"
      },
      "source": [
        "<a href=\"https://colab.research.google.com/github/HaoYamado/notebooks/blob/master/CNN_PyTorch.ipynb\" target=\"_parent\"><img src=\"https://colab.research.google.com/assets/colab-badge.svg\" alt=\"Open In Colab\"/></a>"
      ]
    },
    {
      "cell_type": "markdown",
      "metadata": {
        "id": "nCbLRCLL0mM6",
        "colab_type": "text"
      },
      "source": [
        "# Convolutional Neural Network with PyTorch"
      ]
    },
    {
      "cell_type": "markdown",
      "metadata": {
        "id": "7fi7RaTf04Cn",
        "colab_type": "text"
      },
      "source": [
        "### Basic Convoluational Neural Network (CNN)\n",
        "*   A basic CNN just requires 2 additional layers!\n",
        "    *    Convolutional and pooling layers before our feedforward neural network\n",
        "\n",
        "**Fully Connected (FC) Layer**\n",
        "A layer with an affine function & non-linear function is called a Fully Connected (FC) Layer\n",
        "![alt text](https://www.deeplearningwizard.com/deep_learning/practical_pytorch/images/cnn1.png)\n",
        "\n",
        "##  One Convolutional Layer: High Level View\n",
        "![alt text](https://www.deeplearningwizard.com/deep_learning/practical_pytorch/images/cnn6-1.png)\n",
        "\n",
        "##  One Convolutional Layer: High Level View Summary\n",
        "![alt text](https://www.deeplearningwizard.com/deep_learning/practical_pytorch/images/cnn2.png)\n",
        "\n",
        "*   As the kernel is sliding/convolving across the image ---> 2 operations\n",
        "done per patch\n",
        "    *  a. Element-wise multiplication\n",
        "    *  b. Summation\n",
        "*   More kernels = more feature map channels\n",
        "    * Can capture more inforamtion about the input\n",
        "\n",
        "##  Multiple Convolutional Layers: High Level View\n",
        "![alt text](https://www.deeplearningwizard.com/deep_learning/practical_pytorch/images/cnn7-3.png)\n",
        "\n",
        "##  Pooling Layer: High Level View\n",
        "*   2 Common Types\n",
        "    *  Max Pooling\n",
        "    *  Average Pooling\n",
        "![alt text](https://www.deeplearningwizard.com/deep_learning/practical_pytorch/images/cnn8n2.png)\n",
        "\n",
        "##  Multiple Pooling Layers: High Level View\n",
        "![alt text](https://www.deeplearningwizard.com/deep_learning/practical_pytorch/images/cnn7-3.png)\n",
        "\n",
        "## Padding\n",
        "![alt text](https://www.deeplearningwizard.com/deep_learning/practical_pytorch/images/cnn9-4.png)\n",
        "\n",
        "##  Padding Summary\n",
        "*   Valid Padding (No Padding)\n",
        "   *   Output size < input size\n",
        "*   Same Padding (Zero Padding)\n",
        "   *   Output size = input size\n",
        "\n",
        "# Building a Covolutional Neural Network with PyTorch\n",
        "### Model A:\n",
        "*   2 Convolutional Layers\n",
        "    * Same Padding( same output size)\n",
        "*   2 Max Pooling Layers\n",
        "*   1 Fully Connected Layer\n",
        "![alt text](https://www.deeplearningwizard.com/deep_learning/practical_pytorch/images/cnn10-1.png)\n",
        "\n",
        "**Step 1: Loading MNIST Train Dataset**\n",
        "\n",
        "\n",
        "\n"
      ]
    },
    {
      "cell_type": "code",
      "metadata": {
        "id": "rQ7fgndD0OXT",
        "colab_type": "code",
        "colab": {}
      },
      "source": [
        "import torch \n",
        "import torch.nn as nn\n",
        "import torchvision.transforms as transforms\n",
        "import torchvision.datasets as dsets\n",
        "\n",
        "train_dataset = dsets.MNIST(root='./data',\n",
        "                            train=True,\n",
        "                            transform=transforms.ToTensor(),\n",
        "                            download=True)\n",
        "\n",
        "test_dataset =dsets.MNIST(root='./data',\n",
        "                          train=False,\n",
        "                          transform=transforms.ToTensor())\n"
      ],
      "execution_count": 0,
      "outputs": []
    },
    {
      "cell_type": "code",
      "metadata": {
        "id": "bvlyGVD068q7",
        "colab_type": "code",
        "colab": {
          "base_uri": "https://localhost:8080/",
          "height": 68
        },
        "outputId": "298ccbb8-c319-4728-8951-3d5b26d9f2e5"
      },
      "source": [
        "print(train_dataset.train_data.size())"
      ],
      "execution_count": 9,
      "outputs": [
        {
          "output_type": "stream",
          "text": [
            "torch.Size([60000, 28, 28])\n"
          ],
          "name": "stdout"
        },
        {
          "output_type": "stream",
          "text": [
            "/usr/local/lib/python3.6/dist-packages/torchvision/datasets/mnist.py:53: UserWarning: train_data has been renamed data\n",
            "  warnings.warn(\"train_data has been renamed data\")\n"
          ],
          "name": "stderr"
        }
      ]
    },
    {
      "cell_type": "code",
      "metadata": {
        "id": "NirpcxiTCT_Q",
        "colab_type": "code",
        "colab": {
          "base_uri": "https://localhost:8080/",
          "height": 68
        },
        "outputId": "fd55beba-b523-430c-fc30-68c9e8ee79ca"
      },
      "source": [
        "print(train_dataset.train_labels.size())"
      ],
      "execution_count": 10,
      "outputs": [
        {
          "output_type": "stream",
          "text": [
            "torch.Size([60000])\n"
          ],
          "name": "stdout"
        },
        {
          "output_type": "stream",
          "text": [
            "/usr/local/lib/python3.6/dist-packages/torchvision/datasets/mnist.py:43: UserWarning: train_labels has been renamed targets\n",
            "  warnings.warn(\"train_labels has been renamed targets\")\n"
          ],
          "name": "stderr"
        }
      ]
    },
    {
      "cell_type": "code",
      "metadata": {
        "id": "uuhDgIVNCkAh",
        "colab_type": "code",
        "colab": {
          "base_uri": "https://localhost:8080/",
          "height": 68
        },
        "outputId": "941f4020-df06-4ac1-9100-672f2cce5498"
      },
      "source": [
        "print(test_dataset.test_data.size())"
      ],
      "execution_count": 11,
      "outputs": [
        {
          "output_type": "stream",
          "text": [
            "torch.Size([10000, 28, 28])\n"
          ],
          "name": "stdout"
        },
        {
          "output_type": "stream",
          "text": [
            "/usr/local/lib/python3.6/dist-packages/torchvision/datasets/mnist.py:58: UserWarning: test_data has been renamed data\n",
            "  warnings.warn(\"test_data has been renamed data\")\n"
          ],
          "name": "stderr"
        }
      ]
    },
    {
      "cell_type": "code",
      "metadata": {
        "id": "GyRfl3LACqwY",
        "colab_type": "code",
        "colab": {
          "base_uri": "https://localhost:8080/",
          "height": 68
        },
        "outputId": "ddc7b8fd-30c8-45dc-e3e0-2b2a8d1baf40"
      },
      "source": [
        "print(test_dataset.test_labels.size())"
      ],
      "execution_count": 12,
      "outputs": [
        {
          "output_type": "stream",
          "text": [
            "torch.Size([10000])\n"
          ],
          "name": "stdout"
        },
        {
          "output_type": "stream",
          "text": [
            "/usr/local/lib/python3.6/dist-packages/torchvision/datasets/mnist.py:48: UserWarning: test_labels has been renamed targets\n",
            "  warnings.warn(\"test_labels has been renamed targets\")\n"
          ],
          "name": "stderr"
        }
      ]
    },
    {
      "cell_type": "markdown",
      "metadata": {
        "id": "1UjvZ_JOCyNa",
        "colab_type": "text"
      },
      "source": [
        "### Step 2: Make Dataset Iterable"
      ]
    },
    {
      "cell_type": "code",
      "metadata": {
        "id": "mK5TYukiCu75",
        "colab_type": "code",
        "colab": {}
      },
      "source": [
        "batch_size = 100\n",
        "n_iters = 3000\n",
        "num_epochs = n_iters /(len(train_dataset) / batch_size)\n",
        "num_epochs = int(num_epochs)\n",
        "\n",
        "train_loader = torch.utils.data.DataLoader(dataset=train_dataset,\n",
        "                                           batch_size=batch_size,\n",
        "                                           shuffle=True)\n",
        "\n",
        "test_loader = torch.utils.data.DataLoader(dataset=test_dataset,\n",
        "                                          batch_size=batch_size,\n",
        "                                          shuffle=False)"
      ],
      "execution_count": 0,
      "outputs": []
    },
    {
      "cell_type": "markdown",
      "metadata": {
        "id": "YbowecmSDvMb",
        "colab_type": "text"
      },
      "source": [
        "### Create Model Class\n",
        "![alt text](https://www.deeplearningwizard.com/deep_learning/practical_pytorch/images/cnn10-1.png)\n",
        "![alt text](https://sun9-47.userapi.com/c858224/v858224001/d8fad/zYupcCK2i_A.jpg)\n",
        "![alt text](https://www.deeplearningwizard.com/deep_learning/practical_pytorch/images/cnn10-2n.png)"
      ]
    },
    {
      "cell_type": "code",
      "metadata": {
        "id": "H79AF_WGDsTy",
        "colab_type": "code",
        "colab": {}
      },
      "source": [
        ""
      ],
      "execution_count": 0,
      "outputs": []
    }
  ]
}