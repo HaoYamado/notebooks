{
  "nbformat": 4,
  "nbformat_minor": 0,
  "metadata": {
    "kernelspec": {
      "display_name": "Python 3",
      "language": "python",
      "name": "python3"
    },
    "language_info": {
      "codemirror_mode": {
        "name": "ipython",
        "version": 3
      },
      "file_extension": ".py",
      "mimetype": "text/x-python",
      "name": "python",
      "nbconvert_exporter": "python",
      "pygments_lexer": "ipython3",
      "version": "3.7.4"
    },
    "colab": {
      "name": "PyTorchTransfer.ipynb",
      "provenance": [],
      "include_colab_link": true
    }
  },
  "cells": [
    {
      "cell_type": "markdown",
      "metadata": {
        "id": "view-in-github",
        "colab_type": "text"
      },
      "source": [
        "<a href=\"https://colab.research.google.com/github/HaoYamado/notebooks/blob/master/PyTorchTransfer.ipynb\" target=\"_parent\"><img src=\"https://colab.research.google.com/assets/colab-badge.svg\" alt=\"Open In Colab\"/></a>"
      ]
    },
    {
      "cell_type": "markdown",
      "metadata": {
        "id": "v4sWbfyYvvAF",
        "colab_type": "text"
      },
      "source": [
        "# SPATIAL TRANSFORMER NETWORKS"
      ]
    },
    {
      "cell_type": "code",
      "metadata": {
        "id": "VSlrFB3rvvAI",
        "colab_type": "code",
        "colab": {}
      },
      "source": [
        "from __future__ import print_function\n",
        "import torch\n",
        "import torch.nn as nn\n",
        "import torch.nn.functional as F\n",
        "import torch.optim as optim\n",
        "import torchvision\n",
        "from torchvision import datasets, transforms\n",
        "import matplotlib.pyplot as plt\n",
        "import numpy as np\n",
        "\n",
        "plt.ion()"
      ],
      "execution_count": 0,
      "outputs": []
    },
    {
      "cell_type": "markdown",
      "metadata": {
        "id": "rNvqUDuGvvAN",
        "colab_type": "text"
      },
      "source": [
        "# Load Data"
      ]
    },
    {
      "cell_type": "code",
      "metadata": {
        "id": "om5-WyTAvvAO",
        "colab_type": "code",
        "colab": {}
      },
      "source": [
        "device = torch.device('cuda' if torch.cuda.is_available() else 'cpu')\n",
        "\n",
        "# Training dataset\n",
        "train_loader = torch.utils.data.DataLoader(\n",
        "        datasets.MNIST(root = '.', train=True, download=True,\n",
        "                      transform=transforms.Compose([\n",
        "                          transforms.ToTensor(),\n",
        "                          transforms.Normalize((0.1307,), (0.3081,))\n",
        "                      ])), batch_size=64, shuffle=True, num_workers=4)\n",
        "\n",
        "test_loader = torch.utils.data.DataLoader(\n",
        "        datasets.MNIST(root = '.', train=False, download=True,\n",
        "                      transform=transforms.Compose([\n",
        "                          transforms.ToTensor(),\n",
        "                          transforms.Normalize((0.1307,), (0.3081,))\n",
        "                      ])), batch_size=64, shuffle=True, num_workers=4)"
      ],
      "execution_count": 0,
      "outputs": []
    },
    {
      "cell_type": "code",
      "metadata": {
        "id": "-fHxlZ8nvvAS",
        "colab_type": "code",
        "colab": {}
      },
      "source": [
        "class Net(nn.Module):\n",
        "    def __init__(self):\n",
        "        super(Net, self).__init__()\n",
        "        self.conv1 = nn.Conv2d(1, 10, kernel_size=5)\n",
        "        self.conv2 = nn.Conv2d(10, 20, kernel_size=5)\n",
        "        self.conv2_drop = nn.Dropout2d()\n",
        "        self.fc1 = nn.Linear(320, 50)\n",
        "        self.fc2 = nn.Linear(50, 10)\n",
        "        \n",
        "        # Spatial transformer localization-network\n",
        "        self.localization = nn.Sequential(\n",
        "            nn.Conv2d(1, 8, kernel_size=7),\n",
        "            nn.MaxPool2d(2, stride=2),\n",
        "            nn.ReLU(True),\n",
        "            nn.Conv2d(8, 10, kernel_size=5),\n",
        "            nn.MaxPool2d(2, stride=2),\n",
        "            nn.ReLU(True)\n",
        "        )\n",
        "        \n",
        "        # Regressor for the 3 x 2 affine matrix\n",
        "        self.fc_loc = nn.Sequential(\n",
        "            nn.Linear(10 * 3 * 3, 32),\n",
        "            nn.ReLU(True),\n",
        "            nn.Linear(32, 3 * 2)\n",
        "        )\n",
        "        \n",
        "        # Initialize the weights/bias with identify transformation\n",
        "        self.fc_loc[2].weight.data.zero_()\n",
        "        self.fc_loc[2].bias.data.copy_(torch.tensor([1, 0, 0, 0, 1, 0], dtype=torch.float))\n",
        "        \n",
        "    # Spatial transformer network forward function\n",
        "    def stn(self, x):\n",
        "        xs = self.localization(x)\n",
        "        xs = xs.view(-1, 10 * 3 * 3)\n",
        "        theta = self.fc_loc(xs)\n",
        "        theta = theta.view(-1, 2, 3)\n",
        "    \n",
        "        grid = F.affine_grid(theta, x.size())\n",
        "        x = F.grid_sample(x, grid)\n",
        "    \n",
        "        return x\n",
        "     \n",
        "    def forward(self, x):\n",
        "        # transform the input\n",
        "        x = self.stn(x)\n",
        "        \n",
        "        # Perform the usual forward pass\n",
        "        x = F.relu(F.max_pool2d(self.conv1(x), 2))\n",
        "        x = F.relu(F.max_pool2d(self.conv2_drop(self.conv2(x)), 2))\n",
        "        x = x.view(-1, 320)\n",
        "        x = F.relu(self.fc1(x))\n",
        "        x = F.dropout(x, training=self.training)\n",
        "        x = self.fc2(x)\n",
        "        return F.log_softmax(x, dim=1)\n",
        "\n",
        "model = Net().to(device)"
      ],
      "execution_count": 0,
      "outputs": []
    },
    {
      "cell_type": "markdown",
      "metadata": {
        "id": "_mQ_Sd5CvvAW",
        "colab_type": "text"
      },
      "source": [
        "# Train Model "
      ]
    },
    {
      "cell_type": "code",
      "metadata": {
        "id": "mz_EYJ38vvAX",
        "colab_type": "code",
        "colab": {}
      },
      "source": [
        "optimizer = optim.SGD(model.parameters(), lr=0.01)\n",
        "\n",
        "\n",
        "def train(epoch):\n",
        "    model.train()\n",
        "    for batch_idx, (data, target) in enumerate(train_loader):\n",
        "        data, target = data.to(device), target.to(device)\n",
        "\n",
        "        optimizer.zero_grad()\n",
        "        output = model(data)\n",
        "        loss = F.nll_loss(output, target)\n",
        "        loss.backward()\n",
        "        optimizer.step()\n",
        "        if batch_idx % 500 == 0:\n",
        "            print('Train Epoch: {} [{}/{} ({:.0f}%)]\\tLoss: {:.6f}'.format(\n",
        "                epoch, batch_idx * len(data), len(train_loader.dataset),\n",
        "                100. * batch_idx / len(train_loader), loss.item()))\n",
        "#\n",
        "# A simple test procedure to measure STN the performances on MNIST.\n",
        "#\n",
        "\n",
        "\n",
        "def test():\n",
        "    with torch.no_grad():\n",
        "        model.eval()\n",
        "        test_loss = 0\n",
        "        correct = 0\n",
        "        for data, target in test_loader:\n",
        "            data, target = data.to(device), target.to(device)\n",
        "            output = model(data)\n",
        "\n",
        "            # sum up batch loss\n",
        "            test_loss += F.nll_loss(output, target, size_average=False).item()\n",
        "            # get the index of the max log-probability\n",
        "            pred = output.max(1, keepdim=True)[1]\n",
        "            correct += pred.eq(target.view_as(pred)).sum().item()\n",
        "\n",
        "        test_loss /= len(test_loader.dataset)\n",
        "        print('\\nTest set: Average loss: {:.4f}, Accuracy: {}/{} ({:.0f}%)\\n'\n",
        "              .format(test_loss, correct, len(test_loader.dataset),\n",
        "                      100. * correct / len(test_loader.dataset)))"
      ],
      "execution_count": 0,
      "outputs": []
    },
    {
      "cell_type": "markdown",
      "metadata": {
        "id": "x2UCuLN5vvAb",
        "colab_type": "text"
      },
      "source": [
        "# Visualize relults STN"
      ]
    },
    {
      "cell_type": "code",
      "metadata": {
        "id": "Qlg30laDvvAc",
        "colab_type": "code",
        "colab": {},
        "outputId": "b164dcb6-be28-4d3e-d7dd-77bd09f6e6a1"
      },
      "source": [
        "def convert_image_np(inp):\n",
        "    \"\"\"Convert a Tensor to numpy image.\"\"\"\n",
        "    inp = inp.numpy().transpose((1, 2, 0))\n",
        "    mean = np.array([0.485, 0.456, 0.406])\n",
        "    std = np.array([0.229, 0.224, 0.225])\n",
        "    inp = std * inp + mean\n",
        "    inp = np.clip(inp, 0, 1)\n",
        "    return inp\n",
        "\n",
        "# We want to visualize the output of the spatial tranformers layer\n",
        "# after the training, we visualize a batch of output image and\n",
        "# the correspondonding transformed batch using STN.\n",
        "\n",
        "def visualize_stn():\n",
        "    with torch.no_grad():\n",
        "        # Get a batch of training data\n",
        "        data = next(iter(test_loader))[0].to(device)\n",
        "        \n",
        "        input_tensor = data.cpu()\n",
        "        transformed_input_tensor = model.stn(data).cpu()\n",
        "        \n",
        "        in_grid = convert_image_np(\n",
        "            torchvision.utils.make_grid(input_tensor))\n",
        "        out_grid = convert_image_np(\n",
        "            torchvision.utils.make_grid(transformed_input_tensor))\n",
        "        \n",
        "        # Plot the results side-by-side\n",
        "        f, axarr = plt.subplots(1, 2)\n",
        "        axarr[0].imshow(in_grid)\n",
        "        axarr[0].set_title('Dataset Images')\n",
        "        \n",
        "        axarr[1].imshow(out_grid)\n",
        "        axarr[1].set_title('Transformed Images')\n",
        "\n",
        "for epoch in range(1, 20 + 1):\n",
        "    train(epoch)\n",
        "    test()\n",
        "\n",
        "# Visualize the STN transformation on some input batch\n",
        "visualize_stn()\n",
        "\n",
        "plt.ioff()\n",
        "plt.show()"
      ],
      "execution_count": 0,
      "outputs": [
        {
          "output_type": "stream",
          "text": [
            "Train Epoch: 1 [0/60000 (0%)]\tLoss: 0.019779\n",
            "Train Epoch: 1 [32000/60000 (53%)]\tLoss: 0.071763\n",
            "\n",
            "Test set: Average loss: 0.0432, Accuracy: 9870/10000 (99%)\n",
            "\n",
            "Train Epoch: 2 [0/60000 (0%)]\tLoss: 0.110020\n",
            "Train Epoch: 2 [32000/60000 (53%)]\tLoss: 0.041589\n",
            "\n",
            "Test set: Average loss: 0.0318, Accuracy: 9903/10000 (99%)\n",
            "\n",
            "Train Epoch: 3 [0/60000 (0%)]\tLoss: 0.050662\n",
            "Train Epoch: 3 [32000/60000 (53%)]\tLoss: 0.041948\n",
            "\n",
            "Test set: Average loss: 0.0441, Accuracy: 9875/10000 (99%)\n",
            "\n",
            "Train Epoch: 4 [0/60000 (0%)]\tLoss: 0.081672\n",
            "Train Epoch: 4 [32000/60000 (53%)]\tLoss: 0.037180\n",
            "\n",
            "Test set: Average loss: 0.0301, Accuracy: 9906/10000 (99%)\n",
            "\n",
            "Train Epoch: 5 [0/60000 (0%)]\tLoss: 0.060061\n",
            "Train Epoch: 5 [32000/60000 (53%)]\tLoss: 0.151485\n",
            "\n",
            "Test set: Average loss: 0.0298, Accuracy: 9907/10000 (99%)\n",
            "\n",
            "Train Epoch: 6 [0/60000 (0%)]\tLoss: 0.027707\n",
            "Train Epoch: 6 [32000/60000 (53%)]\tLoss: 0.022790\n",
            "\n",
            "Test set: Average loss: 0.0423, Accuracy: 9886/10000 (99%)\n",
            "\n",
            "Train Epoch: 7 [0/60000 (0%)]\tLoss: 0.047871\n",
            "Train Epoch: 7 [32000/60000 (53%)]\tLoss: 0.010025\n",
            "\n",
            "Test set: Average loss: 0.0347, Accuracy: 9894/10000 (99%)\n",
            "\n",
            "Train Epoch: 8 [0/60000 (0%)]\tLoss: 0.044356\n",
            "Train Epoch: 8 [32000/60000 (53%)]\tLoss: 0.045999\n",
            "\n",
            "Test set: Average loss: 0.0334, Accuracy: 9894/10000 (99%)\n",
            "\n",
            "Train Epoch: 9 [0/60000 (0%)]\tLoss: 0.075684\n",
            "Train Epoch: 9 [32000/60000 (53%)]\tLoss: 0.062900\n",
            "\n",
            "Test set: Average loss: 0.0341, Accuracy: 9895/10000 (99%)\n",
            "\n",
            "Train Epoch: 10 [0/60000 (0%)]\tLoss: 0.040436\n",
            "Train Epoch: 10 [32000/60000 (53%)]\tLoss: 0.031664\n",
            "\n",
            "Test set: Average loss: 0.0333, Accuracy: 9898/10000 (99%)\n",
            "\n",
            "Train Epoch: 11 [0/60000 (0%)]\tLoss: 0.001571\n",
            "Train Epoch: 11 [32000/60000 (53%)]\tLoss: 0.077644\n",
            "\n",
            "Test set: Average loss: 0.0432, Accuracy: 9882/10000 (99%)\n",
            "\n",
            "Train Epoch: 12 [0/60000 (0%)]\tLoss: 0.099449\n",
            "Train Epoch: 12 [32000/60000 (53%)]\tLoss: 0.050065\n",
            "\n",
            "Test set: Average loss: 0.0341, Accuracy: 9907/10000 (99%)\n",
            "\n",
            "Train Epoch: 13 [0/60000 (0%)]\tLoss: 0.038367\n",
            "Train Epoch: 13 [32000/60000 (53%)]\tLoss: 0.003310\n",
            "\n",
            "Test set: Average loss: 0.0353, Accuracy: 9896/10000 (99%)\n",
            "\n",
            "Train Epoch: 14 [0/60000 (0%)]\tLoss: 0.083328\n",
            "Train Epoch: 14 [32000/60000 (53%)]\tLoss: 0.003006\n",
            "\n",
            "Test set: Average loss: 0.2602, Accuracy: 9337/10000 (93%)\n",
            "\n",
            "Train Epoch: 15 [0/60000 (0%)]\tLoss: 0.536353\n",
            "Train Epoch: 15 [32000/60000 (53%)]\tLoss: 0.019789\n",
            "\n",
            "Test set: Average loss: 0.0347, Accuracy: 9903/10000 (99%)\n",
            "\n",
            "Train Epoch: 16 [0/60000 (0%)]\tLoss: 0.028177\n",
            "Train Epoch: 16 [32000/60000 (53%)]\tLoss: 0.023711\n",
            "\n",
            "Test set: Average loss: 0.0326, Accuracy: 9900/10000 (99%)\n",
            "\n",
            "Train Epoch: 17 [0/60000 (0%)]\tLoss: 0.120557\n",
            "Train Epoch: 17 [32000/60000 (53%)]\tLoss: 0.013790\n",
            "\n",
            "Test set: Average loss: 0.0358, Accuracy: 9899/10000 (99%)\n",
            "\n",
            "Train Epoch: 18 [0/60000 (0%)]\tLoss: 0.145803\n",
            "Train Epoch: 18 [32000/60000 (53%)]\tLoss: 0.104092\n",
            "\n",
            "Test set: Average loss: 0.0320, Accuracy: 9901/10000 (99%)\n",
            "\n",
            "Train Epoch: 19 [0/60000 (0%)]\tLoss: 0.215119\n",
            "Train Epoch: 19 [32000/60000 (53%)]\tLoss: 0.054971\n",
            "\n",
            "Test set: Average loss: 0.0586, Accuracy: 9851/10000 (99%)\n",
            "\n",
            "Train Epoch: 20 [0/60000 (0%)]\tLoss: 0.022195\n",
            "Train Epoch: 20 [32000/60000 (53%)]\tLoss: 0.009865\n",
            "\n",
            "Test set: Average loss: 0.0359, Accuracy: 9897/10000 (99%)\n",
            "\n"
          ],
          "name": "stdout"
        },
        {
          "output_type": "display_data",
          "data": {
            "image/png": "[encoded data removed]",
            "text/plain": [
              "<Figure size 432x288 with 2 Axes>"
            ]
          },
          "metadata": {
            "tags": [],
            "needs_background": "light"
          }
        }
      ]
    },
    {
      "cell_type": "code",
      "metadata": {
        "id": "oshoJz1UvvAh",
        "colab_type": "code",
        "colab": {}
      },
      "source": [
        ""
      ],
      "execution_count": 0,
      "outputs": []
    }
  ]
}