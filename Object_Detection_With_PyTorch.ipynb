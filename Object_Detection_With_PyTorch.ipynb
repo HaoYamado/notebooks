{
  "nbformat": 4,
  "nbformat_minor": 0,
  "metadata": {
    "colab": {
      "name": "Untitled0.ipynb",
      "provenance": [],
      "include_colab_link": true
    },
    "kernelspec": {
      "name": "python3",
      "display_name": "Python 3"
    }
  },
  "cells": [
    {
      "cell_type": "markdown",
      "metadata": {
        "id": "view-in-github",
        "colab_type": "text"
      },
      "source": [
        "<a href=\"https://colab.research.google.com/github/HaoYamado/notebooks/blob/master/Object_Detection_With_PyTorch.ipynb\" target=\"_parent\"><img src=\"https://colab.research.google.com/assets/colab-badge.svg\" alt=\"Open In Colab\"/></a>"
      ]
    },
    {
      "cell_type": "markdown",
      "metadata": {
        "id": "PC11slUT9yw5",
        "colab_type": "text"
      },
      "source": [
        "# Torchvision Object Detection\n",
        "\n",
        "> Examples given from official documentation PyTorch\n",
        "\n",
        "\n",
        "![alt text](https://www.cis.upenn.edu/~jshi/ped_html/images/PennPed00015_1.png)"
      ]
    },
    {
      "cell_type": "code",
      "metadata": {
        "id": "MD2hz6PT9nZe",
        "colab_type": "code",
        "colab": {}
      },
      "source": [
        ""
      ],
      "execution_count": 0,
      "outputs": []
    }
  ]
}